{
 "metadata": {
  "name": "",
  "signature": "sha256:822a072543383f6b5c68d61e7a7035f79d8028569dca57004aa7c0bc2917a26c"
 },
 "nbformat": 3,
 "nbformat_minor": 0,
 "worksheets": []
}