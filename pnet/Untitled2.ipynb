{
 "metadata": {
  "name": "",
  "signature": "sha256:8b9e0261a4f55defb9768959f073be63f231d4c5bfaffdb9025f2f911755135b"
 },
 "nbformat": 3,
 "nbformat_minor": 0,
 "worksheets": [
  {
   "cells": [
    {
     "cell_type": "code",
     "collapsed": false,
     "input": [
      "from __future__ import division\n",
      "import time\n",
      "from scipy.special import logit\n",
      "from sklearn.utils.extmath import logsumexp\n",
      "from sklearn.utils import check_random_state\n",
      "from sklearn.base import BaseEstimator\n",
      "import numpy as np\n",
      "import math\n",
      "import random, collections\n",
      "import scipy.sparse\n",
      "\n",
      "EPS = np.finfo(float).eps\n",
      "\n",
      "def log_product_of_bernoullis_mixture_likelihood(X, logit_odds, log_inv_mean_sums):\n",
      "    \"\"\"\n",
      "    X:\n",
      "    Here the X is the original patche data (with padded window)\n",
      "    logit_odds:\n",
      "    The logit parts with background probabilities as well.\n",
      "    log(mean / 1 - mean)\n",
      "    log_inv_mean_sums:\n",
      "    (1 / (log mean)).sum()\n",
      "    \"\"\"\n",
      "    \n",
      "    print(\"inside calculating log\")\n",
      "    n, d = X.shape\n",
      "    m = log_inv_mean_sums.size\n",
      "\n",
      "    memory_limit = 200\n",
      "\n",
      "    b = max(math.floor(memory_limit * 1024 * 1024 / (64 * d) - m), 1)\n",
      "    \n",
      "    num_b = math.ceil(n / b)\n",
      "\n",
      "    loglike = np.empty((n,m))\n",
      "    for i in range(num_b):\n",
      "        loglike[i * b : (i + 1) * b] = np.dot(X[i * b:(i + 1) * b], logit_odds.transpose()) + log_inv_mean_sums\n",
      "    print(\"outside calculatinglog\")\n",
      "    return loglike\n",
      "\n",
      "\n",
      "def latentShiftEM(data, num_mixture_component, parts_shape, region_shape, shifting_shape, max_num_iteration, loglike_tolerance, mu_truncation = (1, 1), additional_mu = None, permutation = None, numpy_rng=None, verbose = False):\n",
      "    n,d = data.shape\n",
      "    partDimension = parts_shape[0] * parts_shape[1] * parts_shape[2]\n",
      "    numShifting = shifting_shape[0] * shifting_shape[1]\n",
      "    bkgRegion = region_shape[0] * region_shape[1] * region_shape[2] - partDimension\n",
      "    if(isinstance(mu_truncation, float)):\n",
      "        use_epsilon = True\n",
      "        epsilon = mu_truncation\n",
      "    else:\n",
      "        use_epsilon = False\n",
      "        beta_prior = mu_truncation\n",
      "\n",
      "    purity_level = 2\n",
      "    log_w = np.empty((numShifting,num_mixture_component))\n",
      "    log_w.fill(-np.log(numShifting * num_mixture_component))\n",
      "    mu = numpy_rng.uniform(size = (num_mixture_component, partDimension)) ** (1 / (purity_level + 1))\n",
      "    print(mu.shape)\n",
      "    centerXStart = int((shifting_shape[0] - 1)/2)\n",
      "    centerYStart = int((shifting_shape[1] - 1)/2)\n",
      "    is_flip = np.logical_not((data.reshape((n,)+region_shape)[:,centerXStart:centerXStart + parts_shape[0], centerYStart:centerYStart + parts_shape[1],:]).reshape(n,-1)[numpy_rng.choice(n,num_mixture_component,replace=False)])\n",
      "    print(is_flip.shape)\n",
      "    mu[is_flip] = 1 - mu[is_flip]\n",
      "    bkg_probability = 0.2\n",
      "\n",
      "    if use_epsilon:\n",
      "        mu[mu < epsilon] = epsilon\n",
      "        mu[mu > 1 - epsilon] = 1 - epsilon\n",
      "    else:\n",
      "        mu *= (n / num_mixture_component) / ((n / num_mixture_component) + np.sum(beta_prior))\n",
      "        mu += beta_prior[0] / ((n / num_mixture_component) + np.sum(beta_prior))\n",
      "\n",
      "    log_odd = np.empty((num_mixture_component,)+region_shape)\n",
      "    sum_log_one_mu = np.empty(num_mixture_component)\n",
      "    log_q = np.empty((numShifting, n, num_mixture_component))\n",
      "\n",
      "    # DO EM.\n",
      "    loglike = []\n",
      "    t = 0\n",
      "    while t < max_num_iteration:\n",
      "        if verbose:\n",
      "            clock_start = time.clock()\n",
      "\n",
      "        # E -step : Compoute q\n",
      "        sum_log_one_mu = np.log(1 - mu).sum(axis = 1) + np.log(1 - bkg_probability) * bkgRegion\n",
      "        for i in range(shifting_shape[0]):\n",
      "            for j in range(shifting_shape[1]):\n",
      "\n",
      "                log_odd[:num_mixture_component] = np.ones((num_mixture_component,)+ region_shape) * bkg_probability\n",
      "                log_odd[:num_mixture_component,i:i+parts_shape[0],j:j+parts_shape[1],:] = mu.reshape((num_mixture_component,) + parts_shape)\n",
      "                log_odd = logit(log_odd)\n",
      "                log_q[i * shifting_shape[1] + j] = log_product_of_bernoullis_mixture_likelihood(data,log_odd.reshape((num_mixture_component, -1)),sum_log_one_mu)\n",
      "\n",
      "        norm_log_q = logsumexp(logsumexp(log_q, axis = 2),axis = 0)\n",
      "        log_q -= norm_log_q.reshape((1,n,1))\n",
      "\n",
      "        # M - Step: Computer weights and model.\n",
      "        log_w = logsumexp(log_q, axis = 1)\n",
      "        log_q_sum_r_n = logsumexp(log_w,axis = 0)\n",
      "        log_w -= logsumexp(log_w)\n",
      "\n",
      "        q = np.exp(log_q)\n",
      "        mu = np.zeros((num_mixture_component,partDimension))\n",
      "        p_bkg = 0\n",
      "        for i in range(shifting_shape[0]):\n",
      "            for j in range(shifting_shape[1]):\n",
      "                dotResult = np.dot(q[i * shifting_shape[1] + j].transpose(),data).reshape((num_mixture_component,)+region_shape) \n",
      "                mu += dotResult[:,i:i+parts_shape[0],j:j+parts_shape[1],:].reshape((num_mixture_component,-1))\n",
      "                dotResult[:,i:i+parts_shape[0],j:j+parts_shape[1],:] = 0\n",
      "                p_bkg += np.sum(dotResult)\n",
      "        bkg_probability = p_bkg / (n * bkgRegion)\n",
      "        \n",
      "        \n",
      "        if use_epsilon:\n",
      "            eps = np.finfo(np.float_).eps\n",
      "            mu[mu<eps] = eps\n",
      "            mu = np.exp(np.log(mu) - log_q_sum_r_n.reshape((num_mixture_component, 1)))\n",
      "            mu[mu < epsilon] = epsilon\n",
      "            mu[mu > 1- epsilon] = 1 - epsilon\n",
      "        else:\n",
      "            mu += beta_prior[0]\n",
      "            mu /= (np.exp(log_q_sum_r_n) + np.sum(beta_prior)).reshape((num_mixture_component,1))\n",
      "\n",
      "        loglike.append(norm_log_q.sum())\n",
      "        if verbose:\n",
      "            print('Iter {}:{:.3f} seconds. Log-likelihood : {:.1f}'.format(t + 1, time.clock - clock_start, loglike[-1]))\n",
      "        if t >= 1 and loglike[-1] - loglike[-2] < loglike_tolerance *  - loglike[-2]:\n",
      "            break\n",
      "        t+=1\n",
      "    loglike = np.asarray(loglike,dtype = np.float64)\n",
      "    log_weight = log_w.sum(axis = 0)\n",
      "    ordering = np.argsort(log_weight)[::-1]\n",
      "    log_weight = log_weight[ordering]\n",
      "    mu = mu[ordering]\n",
      "\n",
      "    data_m = logsumexp(log_q,axis = 0).argmax(axis = 1)\n",
      "    idx = np.ravel_multi_index((np.arange(n),data_m),(n,num_mixture_component))\n",
      "    data_p = log_q.reshape((numShifting,n * num_mixture_component))[:,idx].argmax(axis = 0)\n",
      "    inverse_ordering = np.argsort(ordering)\n",
      "    data_m = inverse_ordering\n",
      "    data_label = np.hstack((data_m.reshape((-1,1)),data_p.reshape((-1,1))))\n",
      "    if verbose:\n",
      "        print('latentShiftingEM finished')\n",
      "    return log_weight, mu, loglike,data_label\n",
      "\n"
     ],
     "language": "python",
     "metadata": {},
     "outputs": [],
     "prompt_number": 2
    },
    {
     "cell_type": "code",
     "collapsed": false,
     "input": [
      "import amitgroup as ag\n"
     ],
     "language": "python",
     "metadata": {},
     "outputs": [],
     "prompt_number": 4
    },
    {
     "cell_type": "code",
     "collapsed": false,
     "input": [
      "import pnet"
     ],
     "language": "python",
     "metadata": {},
     "outputs": [],
     "prompt_number": 5
    },
    {
     "cell_type": "code",
     "collapsed": false,
     "input": [
      "edgeLayer = pnet.EdgeLayer(k=5,radius = 1,spread = 'orthogonal',minimum_contrast=0.05)\n",
      "partsNet = [edgeLayer]"
     ],
     "language": "python",
     "metadata": {},
     "outputs": [],
     "prompt_number": 6
    },
    {
     "cell_type": "code",
     "collapsed": false,
     "input": [
      "net = pnet.PartsNet(partsNet)"
     ],
     "language": "python",
     "metadata": {},
     "outputs": [],
     "prompt_number": 7
    },
    {
     "cell_type": "code",
     "collapsed": false,
     "input": [
      "digits = range(10)\n",
      "ims = ag.io.load_mnist('training',selection = slice(10000),return_labels = False)"
     ],
     "language": "python",
     "metadata": {},
     "outputs": [],
     "prompt_number": 8
    },
    {
     "cell_type": "code",
     "collapsed": false,
     "input": [
      "result = edgeLayer.extract(ims)"
     ],
     "language": "python",
     "metadata": {},
     "outputs": [],
     "prompt_number": 9
    },
    {
     "cell_type": "code",
     "collapsed": false,
     "input": [
      "result.shape"
     ],
     "language": "python",
     "metadata": {},
     "outputs": [
      {
       "metadata": {},
       "output_type": "pyout",
       "prompt_number": 10,
       "text": [
        "(10000, 28, 28, 8)"
       ]
      }
     ],
     "prompt_number": 10
    },
    {
     "cell_type": "code",
     "collapsed": false,
     "input": [
      "partsLayer = pnet.PartsLayer(100, (10, 10), settings=dict(outer_frame=0,threshold=40,samples_per_image=40,max_samples=1000000,min_prob=0.005))"
     ],
     "language": "python",
     "metadata": {},
     "outputs": [],
     "prompt_number": 11
    },
    {
     "cell_type": "code",
     "collapsed": false,
     "input": [
      "allPatch= partsLayer._get_patches(result,result[:,:,:,0])"
     ],
     "language": "python",
     "metadata": {},
     "outputs": [],
     "prompt_number": 12
    },
    {
     "cell_type": "code",
     "collapsed": false,
     "input": [
      "allPatch[0].shape"
     ],
     "language": "python",
     "metadata": {},
     "outputs": [
      {
       "metadata": {},
       "output_type": "pyout",
       "prompt_number": 13,
       "text": [
        "(400000, 10, 10, 8)"
       ]
      }
     ],
     "prompt_number": 13
    },
    {
     "cell_type": "code",
     "collapsed": false,
     "input": [
      "allPatch = allPatch[0]\n",
      "allPatch = allPatch.reshape(allPatch.shape[0],-1)"
     ],
     "language": "python",
     "metadata": {},
     "outputs": [],
     "prompt_number": 14
    },
    {
     "cell_type": "code",
     "collapsed": false,
     "input": [
      "allPatch.shape"
     ],
     "language": "python",
     "metadata": {},
     "outputs": [
      {
       "metadata": {},
       "output_type": "pyout",
       "prompt_number": 15,
       "text": [
        "(400000, 800)"
       ]
      }
     ],
     "prompt_number": 15
    },
    {
     "cell_type": "code",
     "collapsed": false,
     "input": [
      "rng = np.random.RandomState()\n",
      "em = latentShiftEM(allPatch,50,(6,6,8),(10,10,8), (5,5),25,1e-3 , mu_truncation = (1, 1), numpy_rng=rng, verbose = True)"
     ],
     "language": "python",
     "metadata": {},
     "outputs": [
      {
       "output_type": "stream",
       "stream": "stdout",
       "text": [
        "(50, 288)\n",
        "(50, 288)"
       ]
      },
      {
       "output_type": "stream",
       "stream": "stdout",
       "text": [
        "\n",
        "inside calculating log\n",
        "outside calculatinglog"
       ]
      },
      {
       "output_type": "stream",
       "stream": "stdout",
       "text": [
        "\n",
        "inside calculating log"
       ]
      },
      {
       "output_type": "stream",
       "stream": "stdout",
       "text": [
        "\n",
        "outside calculatinglog"
       ]
      },
      {
       "output_type": "stream",
       "stream": "stdout",
       "text": [
        "\n",
        "inside calculating log"
       ]
      },
      {
       "output_type": "stream",
       "stream": "stdout",
       "text": [
        "\n",
        "outside calculatinglog"
       ]
      },
      {
       "output_type": "stream",
       "stream": "stdout",
       "text": [
        "\n",
        "inside calculating log"
       ]
      },
      {
       "output_type": "stream",
       "stream": "stdout",
       "text": [
        "\n",
        "outside calculatinglog"
       ]
      },
      {
       "output_type": "stream",
       "stream": "stdout",
       "text": [
        "\n",
        "inside calculating log"
       ]
      },
      {
       "output_type": "stream",
       "stream": "stdout",
       "text": [
        "\n",
        "outside calculatinglog"
       ]
      },
      {
       "output_type": "stream",
       "stream": "stdout",
       "text": [
        "\n",
        "inside calculating log"
       ]
      },
      {
       "output_type": "stream",
       "stream": "stdout",
       "text": [
        "\n",
        "outside calculatinglog"
       ]
      },
      {
       "output_type": "stream",
       "stream": "stdout",
       "text": [
        "\n",
        "inside calculating log"
       ]
      },
      {
       "output_type": "stream",
       "stream": "stdout",
       "text": [
        "\n",
        "outside calculatinglog"
       ]
      },
      {
       "output_type": "stream",
       "stream": "stdout",
       "text": [
        "\n",
        "inside calculating log"
       ]
      },
      {
       "output_type": "stream",
       "stream": "stdout",
       "text": [
        "\n",
        "outside calculatinglog"
       ]
      },
      {
       "output_type": "stream",
       "stream": "stdout",
       "text": [
        "\n",
        "inside calculating log"
       ]
      },
      {
       "output_type": "stream",
       "stream": "stdout",
       "text": [
        "\n",
        "outside calculatinglog"
       ]
      },
      {
       "output_type": "stream",
       "stream": "stdout",
       "text": [
        "\n",
        "inside calculating log"
       ]
      },
      {
       "output_type": "stream",
       "stream": "stdout",
       "text": [
        "\n",
        "outside calculatinglog"
       ]
      },
      {
       "output_type": "stream",
       "stream": "stdout",
       "text": [
        "\n",
        "inside calculating log"
       ]
      },
      {
       "output_type": "stream",
       "stream": "stdout",
       "text": [
        "\n",
        "outside calculatinglog"
       ]
      },
      {
       "output_type": "stream",
       "stream": "stdout",
       "text": [
        "\n",
        "inside calculating log"
       ]
      },
      {
       "output_type": "stream",
       "stream": "stdout",
       "text": [
        "\n",
        "outside calculatinglog"
       ]
      },
      {
       "output_type": "stream",
       "stream": "stdout",
       "text": [
        "\n",
        "inside calculating log"
       ]
      },
      {
       "output_type": "stream",
       "stream": "stdout",
       "text": [
        "\n",
        "outside calculatinglog"
       ]
      },
      {
       "output_type": "stream",
       "stream": "stdout",
       "text": [
        "\n",
        "inside calculating log"
       ]
      },
      {
       "output_type": "stream",
       "stream": "stdout",
       "text": [
        "\n",
        "outside calculatinglog"
       ]
      },
      {
       "output_type": "stream",
       "stream": "stdout",
       "text": [
        "\n",
        "inside calculating log"
       ]
      },
      {
       "output_type": "stream",
       "stream": "stdout",
       "text": [
        "\n",
        "outside calculatinglog"
       ]
      },
      {
       "output_type": "stream",
       "stream": "stdout",
       "text": [
        "\n",
        "inside calculating log"
       ]
      },
      {
       "output_type": "stream",
       "stream": "stdout",
       "text": [
        "\n",
        "outside calculatinglog"
       ]
      },
      {
       "output_type": "stream",
       "stream": "stdout",
       "text": [
        "\n",
        "inside calculating log"
       ]
      },
      {
       "output_type": "stream",
       "stream": "stdout",
       "text": [
        "\n",
        "outside calculatinglog"
       ]
      },
      {
       "output_type": "stream",
       "stream": "stdout",
       "text": [
        "\n",
        "inside calculating log"
       ]
      },
      {
       "output_type": "stream",
       "stream": "stdout",
       "text": [
        "\n",
        "outside calculatinglog"
       ]
      },
      {
       "output_type": "stream",
       "stream": "stdout",
       "text": [
        "\n",
        "inside calculating log"
       ]
      },
      {
       "output_type": "stream",
       "stream": "stdout",
       "text": [
        "\n",
        "outside calculatinglog"
       ]
      },
      {
       "output_type": "stream",
       "stream": "stdout",
       "text": [
        "\n",
        "inside calculating log"
       ]
      },
      {
       "output_type": "stream",
       "stream": "stdout",
       "text": [
        "\n",
        "outside calculatinglog"
       ]
      },
      {
       "output_type": "stream",
       "stream": "stdout",
       "text": [
        "\n",
        "inside calculating log"
       ]
      },
      {
       "output_type": "stream",
       "stream": "stdout",
       "text": [
        "\n",
        "outside calculatinglog"
       ]
      },
      {
       "output_type": "stream",
       "stream": "stdout",
       "text": [
        "\n",
        "inside calculating log"
       ]
      },
      {
       "output_type": "stream",
       "stream": "stdout",
       "text": [
        "\n",
        "outside calculatinglog"
       ]
      },
      {
       "output_type": "stream",
       "stream": "stdout",
       "text": [
        "\n",
        "inside calculating log"
       ]
      },
      {
       "output_type": "stream",
       "stream": "stdout",
       "text": [
        "\n",
        "outside calculatinglog"
       ]
      },
      {
       "output_type": "stream",
       "stream": "stdout",
       "text": [
        "\n",
        "inside calculating log"
       ]
      },
      {
       "output_type": "stream",
       "stream": "stdout",
       "text": [
        "\n",
        "outside calculatinglog"
       ]
      },
      {
       "output_type": "stream",
       "stream": "stdout",
       "text": [
        "\n",
        "inside calculating log"
       ]
      },
      {
       "output_type": "stream",
       "stream": "stdout",
       "text": [
        "\n",
        "outside calculatinglog"
       ]
      }
     ]
    },
    {
     "cell_type": "code",
     "collapsed": false,
     "input": [
      "is_flip = allPatch[rng.choice(400000,800,replace=False)]\n",
      "is_flip.shape"
     ],
     "language": "python",
     "metadata": {},
     "outputs": [
      {
       "metadata": {},
       "output_type": "pyout",
       "prompt_number": 39,
       "text": [
        "(800, 800)"
       ]
      }
     ],
     "prompt_number": 39
    },
    {
     "cell_type": "code",
     "collapsed": false,
     "input": [
      "is_flip"
     ],
     "language": "python",
     "metadata": {},
     "outputs": [
      {
       "metadata": {},
       "output_type": "pyout",
       "prompt_number": 40,
       "text": [
        "array([[1, 0, 0, ..., 0, 0, 0],\n",
        "       [0, 0, 0, ..., 0, 0, 0],\n",
        "       [0, 0, 0, ..., 0, 0, 0],\n",
        "       ..., \n",
        "       [0, 0, 0, ..., 0, 0, 0],\n",
        "       [0, 0, 0, ..., 0, 0, 0],\n",
        "       [0, 0, 0, ..., 0, 0, 0]], dtype=uint8)"
       ]
      }
     ],
     "prompt_number": 40
    },
    {
     "cell_type": "code",
     "collapsed": false,
     "input": [
      "a = rng.choice(400000,800,replace=False)"
     ],
     "language": "python",
     "metadata": {},
     "outputs": [],
     "prompt_number": 36
    },
    {
     "cell_type": "code",
     "collapsed": false,
     "input": [
      "a.shape"
     ],
     "language": "python",
     "metadata": {},
     "outputs": [
      {
       "metadata": {},
       "output_type": "pyout",
       "prompt_number": 37,
       "text": [
        "(800,)"
       ]
      }
     ],
     "prompt_number": 37
    },
    {
     "cell_type": "code",
     "collapsed": false,
     "input": [
      "a"
     ],
     "language": "python",
     "metadata": {},
     "outputs": [
      {
       "metadata": {},
       "output_type": "pyout",
       "prompt_number": 38,
       "text": [
        "array([277650, 336464, 130993, 302097, 358685,  42860, 213120,  99881,\n",
        "        79077,  72797,  89541,  97412, 121763, 124844, 286665,  63963,\n",
        "       167056, 291097, 246268, 170426,  19331, 151911, 189497, 190836,\n",
        "       189543, 200435,  96226, 388889,  70116,  70752, 245557, 230087,\n",
        "       348475, 327921, 264280,  63605,  69687,  43990, 127604, 246140,\n",
        "       243665,    327, 291118, 104809, 257797,  87995,  58852, 236555,\n",
        "       196464, 251864, 369993,  94222, 390273,  55992,  36474, 352695,\n",
        "       355321, 300925, 249732,  12406, 253392, 353603, 234290, 338170,\n",
        "       359460,  29976, 242494,  21964, 224492,  81911,  27741, 268636,\n",
        "       321762, 348494, 137348, 281624, 398961, 231002, 234042, 126883,\n",
        "        98748, 219305,  49333, 333713,  90564, 257275,   4144,  42158,\n",
        "       253955,  57145, 228283, 397077, 121484, 209934, 286106, 116531,\n",
        "       360478, 238119, 391352, 383769,  45119, 189110, 336767, 157458,\n",
        "       352802, 236181, 202200, 305454, 212475, 368507, 360518, 220526,\n",
        "        17468, 300060, 381222,    423, 185919, 166692, 206467, 169206,\n",
        "       279348, 205783, 132920, 342168, 307513, 166000,  44910, 354726,\n",
        "        21475,  66285, 369427, 370335, 139278, 245094, 204253, 147582,\n",
        "       294860, 379670, 364926, 163143, 202377,   4722,  86327, 398992,\n",
        "       177554, 269122, 270593, 126010, 259520, 209169, 354773, 313787,\n",
        "       153156,  68366, 299685, 253206, 169190, 248032, 247873, 208054,\n",
        "       339265, 142762,  59989, 345369, 207616,  94388, 178371,  88027,\n",
        "       161864, 384157, 377955,  68070, 263036, 238455, 331903, 376909,\n",
        "        27235, 288109,   8070, 106590, 237326, 124467, 360366, 178470,\n",
        "       332125,   9259, 236178, 155783, 184059, 356510, 191943, 149896,\n",
        "       176858,  32225, 158746, 115818, 343124,  28426,  67228, 177835,\n",
        "       387914, 122869, 312900, 309593,  48443, 315256, 367305, 189147,\n",
        "        64266,  42597, 224321, 101571, 351545,  15345,  73330, 121808,\n",
        "       287971, 128783, 234776, 283735,  77215, 216755, 362565, 107091,\n",
        "       197410, 275051,  60842, 265651, 342419,  73208, 354513, 137833,\n",
        "       288450, 337259, 138312, 151811, 366860, 227952, 379668, 221643,\n",
        "       112224,  51492, 308168, 223367, 277830, 337245,  79247, 237837,\n",
        "       384053, 265095,  14477, 382260, 330569,  70392, 197057, 182655,\n",
        "       140060, 274468, 380507, 358977, 330846, 136735,  18244, 163077,\n",
        "        85587, 199793, 121513, 288315, 398055,  38078, 196775,   3787,\n",
        "        50940, 216314,  44752, 388623, 304726, 194108,  55563,  59656,\n",
        "       187569, 197921, 206656, 123999, 275404, 242801, 366184, 216003,\n",
        "       101028, 146113, 119636,   1575, 102930, 198973, 260421, 253462,\n",
        "       263075, 382226, 273392, 114684, 133361,  87778, 360781,   2800,\n",
        "       276290,  32485, 167560, 243018, 379026, 260857, 333371, 326937,\n",
        "       263041, 349658,   4356,  69492, 226261,   6175, 214656, 241800,\n",
        "       243670, 131570,  97860, 332835,  52813, 320709, 150884, 187970,\n",
        "       327874,  99802, 315589, 391360, 221407, 372650, 229910, 231178,\n",
        "       166797, 349298, 390431, 222067,  98265, 359774, 147554, 119928,\n",
        "       327997,  15420,   9689,  71991, 246888, 206127,  92765, 333910,\n",
        "       121523, 366364, 346750, 117418,  21316, 115924, 351689,  25722,\n",
        "       282063, 201476,  31380, 399009, 347571, 280289, 160820, 325908,\n",
        "       266539, 130788, 289188, 340362, 117233, 372173, 282242, 301087,\n",
        "        21228, 210835, 385384, 263760,  74966, 346391,   4243, 221178,\n",
        "       118470,  32517,  79507, 188709,   9575, 158635,  28019, 207415,\n",
        "       343841, 122616, 179032,  25941, 351683, 110604, 238511, 213148,\n",
        "       392770, 375949,  43011, 165327, 210384,  92982, 283708, 210018,\n",
        "       353597,  52176, 303968, 137007, 377020, 285318,   2593,  78370,\n",
        "        96786, 196774, 252542, 346613, 141154, 340616, 139950,  41730,\n",
        "        73114,  86340, 162869,  85585, 232522, 163630,  95224, 103285,\n",
        "       159577, 180346, 279340, 291915, 100238, 302974, 321106, 280260,\n",
        "       312268, 162895, 142699, 164308, 234445, 176069, 269785, 207342,\n",
        "       166151, 319041, 285722, 260016,  77061,   8780, 167333, 345062,\n",
        "       165226, 299845,  79211, 292237,  45581, 345870, 203388, 273135,\n",
        "       106307, 163309, 246629, 303229, 155058,   1680, 363146,  66815,\n",
        "       100013, 324210, 265927,  53087, 167780, 308378, 360299, 333884,\n",
        "       373630, 394943,  38067, 271044, 369632, 330957,  95652,  20104,\n",
        "        46387,  17174, 347250, 339052, 256286, 101060, 177316, 285891,\n",
        "       144526, 150242, 340448,  15429, 295352,  41821, 329099, 371191,\n",
        "       196126, 232007, 394701, 119393, 269342, 328272, 263302,  81929,\n",
        "       112633, 159533,  77077, 373247, 340298, 315608, 317452,  26503,\n",
        "        98801, 229880, 305017, 380516, 381278, 179573, 274356, 258674,\n",
        "       322431, 345461, 363979, 322172, 226354, 291991,  29876, 161525,\n",
        "       106068, 103855, 307069,  62328, 276894, 395932, 206949, 156696,\n",
        "        50851, 282614, 169836,  11072, 234903, 193260, 381907, 364253,\n",
        "       176661, 224942, 112626, 328261, 218184, 379362,  97665,  11490,\n",
        "       239189, 172736, 320430, 127433,  30955, 378487, 368320, 205428,\n",
        "        34844, 120513, 303330, 363944, 131431, 399734, 198523,  57818,\n",
        "       218370, 133887, 148901, 335812,  21380, 206342, 373171,  80592,\n",
        "       388128, 256710, 113876, 275656, 295370, 114397,  76656,  97062,\n",
        "       236756, 270984,  81762,  50678, 240288, 314767, 302751, 235310,\n",
        "        47183, 355176, 317042, 184781, 200107, 143754,  18064, 268091,\n",
        "       252980, 276621, 214748, 308389, 345714, 305520,  12008, 260410,\n",
        "       105438, 297458, 233630, 246376, 324967,  10299, 217130, 255163,\n",
        "       221113, 308563,  32037, 253826, 135588, 349635,  98945,  94617,\n",
        "       145767,  26083, 339416, 344129, 173731, 291002, 328495, 218665,\n",
        "       190700, 290985, 292620, 101198, 123724,  83699, 355619, 328518,\n",
        "       374914,  94789, 181536, 265540,  60023,  82648, 292772, 107170,\n",
        "        70505, 139408, 212899, 200573, 202817, 165880,  79185, 173155,\n",
        "       176691,  77473, 216837,  33407, 382804, 365489,  59891, 195668,\n",
        "       253187,  98269, 389869,  72277,  97555, 283532, 392993, 315254,\n",
        "       354092,  15074,  34786, 127132,    768, 253664, 159783, 321763,\n",
        "       302983,  81010,  63275, 260182, 112351,  15661, 284440, 334999,\n",
        "       345430, 234578, 229547,  90332, 128451, 346651, 304820, 336634,\n",
        "       321941,  30714, 179609, 261402, 302759, 242878, 278835,  29790,\n",
        "       202946, 352110,  22010, 246417,  53067,  84749, 121162,  46636,\n",
        "       209372, 372134, 137687, 126586, 353074,   7507, 295355, 393796,\n",
        "       168723,  53966, 257678, 348730, 120079, 328824, 215687,  97712,\n",
        "       142747,  32586,  33996, 266175, 205035, 333746, 373262,  31626,\n",
        "       139884, 303690, 182961,  92641, 145487, 324585,  60939, 188905,\n",
        "       346605,  47030, 225901, 238797,  84458, 375329, 198169, 341424,\n",
        "       146760, 151159, 344832, 287014, 390797,  55524, 221467, 296063,\n",
        "       238019,  50104, 243288,  46981, 122643, 170930, 269258,  85375,\n",
        "       277608, 362354, 232077,  62313, 104665, 317370,  29991,  84289,\n",
        "       198865, 125403, 190760, 256386, 328779, 299595, 263977, 281917,\n",
        "       149525, 198643, 135381,  22409, 235277,  11557, 221858, 260803])"
       ]
      }
     ],
     "prompt_number": 38
    },
    {
     "cell_type": "code",
     "collapsed": false,
     "input": [],
     "language": "python",
     "metadata": {},
     "outputs": []
    }
   ],
   "metadata": {}
  }
 ]
}