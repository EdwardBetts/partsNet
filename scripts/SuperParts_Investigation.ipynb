{
 "metadata": {
  "name": "",
  "signature": "sha256:db3fd5e64dc9087db76c37b5e9e16b4b88b350ba3af90ceffcc3dd6aa683b8e5"
 },
 "nbformat": 3,
 "nbformat_minor": 0,
 "worksheets": [
  {
   "cells": [
    {
     "cell_type": "code",
     "collapsed": false,
     "input": [
      "from __future__ import division, print_function,absolute_import\n",
      "import pylab as plt\n",
      "import amitgroup.plot as gr\n",
      "import numpy as np\n",
      "import amitgroup as ag\n",
      "import os\n",
      "import pnet\n",
      "import matplotlib.pylab as plot\n",
      "from pnet.cyfuncs import index_map_pooling\n",
      "from queue import Queue\n",
      "def extract(ims,allLayers):\n",
      "    #print(allLayers)\n",
      "    curX = ims\n",
      "    for layer in allLayers:\n",
      "        #print('-------------')\n",
      "        #print(layer)\n",
      "        curX = layer.extract(curX)\n",
      "        #print(np.array(curX).shape)\n",
      "        #print('------------------')\n",
      "    return curX\n",
      "\n",
      "def partsPool(originalPartsRegion, numParts):\n",
      "    partsGrid = np.zeros((1,1,numParts))\n",
      "    for i in range(originalPartsRegion.shape[0]):\n",
      "        for j in range(originalPartsRegion.shape[1]):\n",
      "            if(originalPartsRegion[i,j]!=-1):\n",
      "                partsGrid[0,0,originalPartsRegion[i,j]] = 1\n",
      "    return partsGrid\n",
      "\n",
      "\n",
      "\n",
      "def test(ims,labels,net):\n",
      "    yhat = net.classify((ims,1000))\n",
      "    return yhat == labels\n",
      "    "
     ],
     "language": "python",
     "metadata": {},
     "outputs": [
      {
       "output_type": "stream",
       "stream": "stderr",
       "text": [
        "/var/tmp/.local/lib/python3.4/site-packages/matplotlib/__init__.py:1157: UserWarning:  This call to matplotlib.use() has no effect\n",
        "because the backend has already been chosen;\n",
        "matplotlib.use() must be called *before* pylab, matplotlib.pyplot,\n",
        "or matplotlib.backends is imported for the first time.\n",
        "\n",
        "  warnings.warn(_use_error_msg)\n"
       ]
      }
     ],
     "prompt_number": 1
    },
    {
     "cell_type": "code",
     "collapsed": false,
     "input": [
      "\n",
      "\n",
      "#def trainPOP():\n",
      "if pnet.parallel.main(__name__):\n",
      "    #X = np.load(\"testMay151.npy\")\n",
      "    X = np.load(\"_3_100*6*6_1000*1*1_Jun_16.npy\")\n",
      "    model = X.item()\n",
      "    # get num of Parts\n",
      "    numParts = model['layers'][1]['num_parts']\n",
      "    net = pnet.PartsNet.load_from_dict(model)\n",
      "    allLayer = net.layers\n",
      "    ims,labels = ag.io.load_mnist('training')\n",
      "    trainingDataNum = 1000\n",
      "    extractedFeature = extract(ims[0:trainingDataNum],allLayer[0:2])[0]\n",
      "    print(extractedFeature.shape)\n",
      "    extractedFeature = extractedFeature.reshape(extractedFeature.shape[0:3])\n",
      "    partsPlot = np.zeros((numParts,6,6))\n",
      "    partsCodedNumber = np.zeros(numParts)\n",
      "    \n",
      "    imgRegion= [[] for x in range(numParts)]\n",
      "    partsRegion = [[] for x in range(numParts)]\n",
      "\n",
      "    for i in range(trainingDataNum):\n",
      "        codeParts = extractedFeature[i]\n",
      "        for m in range(23):\n",
      "            for n in range(23):\n",
      "                if(codeParts[m,n]!=-1):\n",
      "                    partsPlot[codeParts[m,n]]+=ims[i,m:m+6,n:n+6]\n",
      "                    partsCodedNumber[codeParts[m,n]]+=1\n",
      "    for j in range(numParts):\n",
      "        partsPlot[j] = partsPlot[j]/partsCodedNumber[j]\n",
      "\n",
      "\n",
      "    secondLayerCodedNumber = 0\n",
      "    if 1:\n",
      "        for i in range(trainingDataNum):\n",
      "            codeParts = extractedFeature[i]\n",
      "            for m in range(23)[3:20]:\n",
      "                for n in range(23)[3:20]:\n",
      "                    if(codeParts[m,n]!=-1):\n",
      "                        imgRegion[codeParts[m,n]].append(ims[i,m-3:m+9,n-3:n+9])\n",
      "                        secondLayerCodedNumber+=1\n",
      "                        partsGrid = partsPool(codeParts[m-3:m+4,n-3:n+4],numParts)\n",
      "                        partsRegion[codeParts[m,n]].append(partsGrid)\n",
      "    \n",
      "        \n",
      "    ##second-layer parts\n",
      "    numSecondLayerParts = 10\n",
      "    allPartsLayer = [[pnet.PartsLayer(numSecondLayerParts,(1,1),\n",
      "                        settings=dict(outer_frame = 0, \n",
      "                        threshold = 5, \n",
      "                        sample_per_image = 1, \n",
      "                        max_samples=10000, \n",
      "                        min_prob = 0.005))] \n",
      "                        for i in range(numParts)]\n",
      "    allPartsLayerImg = np.zeros((numParts,numSecondLayerParts,12,12))\n",
      "    allPartsLayerImgNumber = np.zeros((numParts,numSecondLayerParts))\n",
      "    \n",
      "    zeroParts = 0\n",
      "    imgRegionPool = [[] for i in range(numParts * numSecondLayerParts)]\n",
      "    for i in range(numParts):\n",
      "        if(not partsRegion[i]):\n",
      "            continue\n",
      "        allPartsLayer[i][0].train_from_samples(np.array(partsRegion[i]),None)\n",
      "        extractedFeaturePart = extract(np.array(partsRegion[i],dtype = np.uint8),allPartsLayer[i])[0]\n",
      "        print(extractedFeaturePart.shape)\n",
      "        for j in range(len(partsRegion[i])):\n",
      "            if(extractedFeaturePart[j,0,0,0]!=-1):\n",
      "                partIndex = extractedFeaturePart[j,0,0,0]\n",
      "                allPartsLayerImg[i,partIndex]+=imgRegion[i][j]\n",
      "                imgRegionPool[i * numSecondLayerParts + partIndex].append(imgRegion[i][j])\n",
      "                allPartsLayerImgNumber[i,partIndex]+=1\n",
      "            else:\n",
      "                zeroParts+=1\n",
      "    for i in range(numParts):\n",
      "        for j in range(numSecondLayerParts):\n",
      "            if(allPartsLayerImgNumber[i,j]):\n",
      "                allPartsLayerImg[i,j] = allPartsLayerImg[i,j]/allPartsLayerImgNumber[i,j]\n",
      "\n",
      "    \n",
      "    \"\"\"\n",
      "    Visualize the SuperParts\n",
      "    \"\"\"\n",
      "    settings = {'interpolation':'nearest','cmap':plot.cm.gray,}\n",
      "    settings['vmin'] = 0\n",
      "    settings['vmax'] = 1\n",
      "    plotData = np.ones((14*100+2,14*(numSecondLayerParts + 1)+2))*0.8\n",
      "    visualShiftParts = 0\n",
      "    if 0:\n",
      "        allPartsPlot = np.zeros((20,numSecondLayerParts + 1,12,12))\n",
      "        gr.images(partsPlot.reshape(numParts,6,6),zero_to_one=False,vmin = 0, vmax = 1)\n",
      "        allPartsPlot[:,0] = 0.5\n",
      "        allPartsPlot[:,0,3:9,3:9] = partsPlot[20:40]\n",
      "        allPartsPlot[:,1:,:,:] = allPartsLayerImg[20:40]\n",
      "        gr.images(allPartsPlot.reshape(20 * (numSecondLayerParts + 1),12,12),zero_to_one=False, vmin = 0, vmax =1)\n",
      "    elif 0:\n",
      "        for i in range(numSecondLayerParts + 1):\n",
      "            for j in range(100):\n",
      "                if i == 0:\n",
      "                    plotData[5 + j * 14:11 + j * 14, 5 + i * 14: 11 + i * 14] = partsPlot[j+visualShiftParts]\n",
      "                else:\n",
      "                    plotData[2 + j * 14:14 + j * 14,2 + i * 14: 14 + i * 14] = allPartsLayerImg[j+visualShiftParts,i-1]\n",
      "        plot.figure(figsize=(10,40))\n",
      "        plot.axis('off')\n",
      "        plot.imshow(plotData, **settings)\n",
      "        plot.savefig('test2.pdf',format='pdf',dpi=900)\n",
      "    else:\n",
      "        pass\n",
      "\n",
      "\n",
      "\n",
      "    \"\"\"\n",
      "    Train A Class-Model Layer\n",
      "    \"\"\"\n",
      "    \n",
      "    digits = range(10)\n",
      "    sup_ims = []\n",
      "    sup_labels = []\n",
      "    \n",
      "    classificationTrainingNum = 100\n",
      "    for d in digits:\n",
      "        ims0 = ag.io.load_mnist('training', [d], selection = slice(classificationTrainingNum), return_labels = False)\n",
      "        sup_ims.append(ims0)\n",
      "        sup_labels.append(d * np.ones(len(ims0),dtype = np.int64))\n",
      "    sup_ims = np.concatenate(sup_ims, axis = 0)\n",
      "    sup_labels = np.concatenate(sup_labels,axis = 0)\n",
      "    \n",
      "\n",
      "    curX = extract(sup_ims,allLayer[0:2])[0]\n",
      "    #print(curX.shape)\n",
      "    curX = curX.reshape(curX.shape[0:3])\n",
      "    secondLevelCurx = np.zeros((10 * classificationTrainingNum,17,17,1,1,numParts))\n",
      "    secondLevelCurxCenter = np.zeros((10 * classificationTrainingNum,17,17))\n",
      "    #for i in range(10 * classificationTrainingNum):\n",
      "    #    codeParts = curX[i]\n",
      "    for m in range(23)[3:20]:\n",
      "        for n in range(23)[3:20]:\n",
      "            secondLevelCurx[:,m-3,n-3] = index_map_pooling(curX[:,m-3:m+4,n-3:n+4],numParts,(7,7),(7,7))\n",
      "            secondLevelCurxCenter[:,m-3,n-3] = curX[:,m,n]\n",
      "\n",
      "    thirdLevelCurx = np.zeros((10 * classificationTrainingNum, 17,17))\n",
      "    for i in range(int(10 * classificationTrainingNum)):\n",
      "        for m in range(17):\n",
      "            for n in range(17):\n",
      "                if(secondLevelCurxCenter[i,m,n]!=-1):\n",
      "                    firstLevelPartIndex = secondLevelCurxCenter[i,m,n]\n",
      "                    #print(firstLevelPartIndex)\n",
      "                    firstLevelPartIndex = int(firstLevelPartIndex)\n",
      "                    extractedFeaturePart = extract(np.array(secondLevelCurx[i,m,n][np.newaxis,:],dtype = np.uint8),allPartsLayer[firstLevelPartIndex])[0]\n",
      "                    #print(\"secondLayerExtraction\")\n",
      "                    #print(extractedFeaturePart.shape)\n",
      "                    thirdLevelCurx[i,m,n] = int(numSecondLayerParts * firstLevelPartIndex + extractedFeaturePart)\n",
      "                    #print(numSecondLayerParts,firstLevelPartIndex,extractedFeaturePart,thirdLevelCurx[i,m,n])\n",
      "                else:\n",
      "                    thirdLevelCurx[i,m,n] = -1\n",
      "    \n",
      "    print(thirdLevelCurx.shape)\n",
      "    #return thirdLevelCurx,allPartsLayerImg \n",
      "    if 1:\n",
      "        classificationLayers = [\n",
      "                            pnet.PoolingLayer(shape = (4,4),strides = (4,4)),\n",
      "                            pnet.MixtureClassificationLayer(n_components = 5, min_prob = 1e-7, block_size = 200)\n",
      "                            #pnet.SVMClassificationLayer(C=1.0)\n",
      "        ]\n",
      "        classificationNet = pnet.PartsNet(classificationLayers)\n",
      "        classificationNet.train((np.array(thirdLevelCurx[:,:,:,np.newaxis],dtype = np.int64),int(numParts * numSecondLayerParts)),sup_labels[:])\n",
      "        print(\"Training Success!!\")    \n",
      "    \n",
      "    if 1:    \n",
      "        testImg,testLabels = ag.io.load_mnist('testing')\n",
      "        testingNum = testLabels.shape[0]\n",
      "        print(\"training extract Begin\") \n",
      "        curTestX = extract(testImg, allLayer[0:2])[0]\n",
      "        print(\"training extract End\")\n",
      "        curTestX = curTestX.reshape(curTestX.shape[0:3])\n",
      "        secondLevelCurTestX = np.zeros((testingNum, 17,17,1,1,numParts))\n",
      "        secondLevelCurTestXCenter = np.zeros((testingNum, 17,17))\n",
      "        \n",
      "        import time\n",
      "        start = time.time()\n",
      "        #for i in range(testingNum):\n",
      "        #    codeParts = curTestX[i]\n",
      "        for m in range(23)[3:20]:\n",
      "            for n in range(23)[3:20]:\n",
      "                secondLevelCurTestX[:,m-3,n-3] = index_map_pooling(curTestX[:,m-3:m+4,n-3:n+4],numParts,(7,7),(7,7))\n",
      "                secondLevelCurTestXCenter[:,m-3,n-3] = curTestX[:,m,n]\n",
      "        afterPool = time.time()\n",
      "        print(afterPool - start)\n",
      "        thirdLevelCurTestX = np.zeros((testingNum, 17, 17))\n",
      "        featureMap = [[] for i in range(numParts)]\n",
      "        for i in range(testingNum):\n",
      "            for m in range(17):\n",
      "                for n in range(17):\n",
      "                    if(secondLevelCurTestXCenter[i,m,n]!=-1):\n",
      "                        firstLevelPartIndex = int(secondLevelCurTestXCenter[i,m,n])\n",
      "                        featureMap[firstLevelPartIndex].append(np.array(secondLevelCurTestX[i,m,n],dtype = np.uint8))\n",
      "                        #extractedFeaturePart = extract(np.array(secondLevelCurTestX[i,m,n][np.newaxis,:],dtype = np.uint8),allPartsLayer[firstLevelPartIndex])[0]\n",
      "                        #thirdLevelCurTestX[i,m,n] = numSecondLayerParts * firstLevelPartIndex + extractedFeaturePart\n",
      "                    #else:\n",
      "                        #thirdLevelCurTestX[i,m,n] = -1\n",
      "        extractedFeatureMap = [Queue() for i in range(numParts)]\n",
      "        for i in range(numParts):\n",
      "            partFeatureMap = np.array(featureMap[i],dtype = np.uint8)\n",
      "            allExtractedFeature = extract(np.array(partFeatureMap),allPartsLayer[i])[0]\n",
      "            for feature in allExtractedFeature:\n",
      "                extractedFeatureMap[i].put(feature)\n",
      "        \n",
      "        for i in range(testingNum):\n",
      "            for m in range(17):\n",
      "                for n in range(17):\n",
      "                    if(secondLevelCurTestXCenter[i,m,n]!=-1):\n",
      "                        firstLevelPartIndex = int(secondLevelCurTestXCenter[i,m,n])\n",
      "                        if(extractedFeatureMap[firstLevelPartIndex].qsize()==0):\n",
      "                            print(\"something is wrong\")\n",
      "                            extractedFeaturePart = -1\n",
      "                        else:\n",
      "                            extractedFeaturePart = extractedFeatureMap[firstLevelPartIndex].get()\n",
      "                        thirdLevelCurTestX[i,m,n] = numSecondLayerParts * firstLevelPartIndex + extractedFeaturePart\n",
      "                    else:\n",
      "                        thirdLevelCurTestX[i,m,n] = -1\n",
      "        end = time.time()\n",
      "        print(end-afterPool)\n",
      "        print(thirdLevelCurTestX.shape)\n",
      "        testImg_Input = np.array(thirdLevelCurTestX[:,:,:,np.newaxis],dtype = np.int64) \n",
      "        testImg_batches = np.array_split(testImg_Input,200)\n",
      "        testLabels_batches = np.array_split(testLabels, 200)\n",
      "        \n",
      "        args = [tup + (classificationNet,) for tup in zip(testImg_batches,testLabels_batches)]\n",
      "        \n",
      "        corrects = 0\n",
      "        total = 0\n",
      "        \n",
      "        def format_error_rate(pr):\n",
      "            return \"{:.2f}%\".format(100 * (1-pr))\n",
      "\n",
      "        print(\"Testing Starting...\")\n",
      "        for i, res in enumerate(pnet.parallel.starmap_unordered(test,args)):\n",
      "            if i !=0 and i % 20 ==0:\n",
      "                print(\"{0:05}/{1:05} Error rate: {2}\".format(total, len(ims),format_error_rate(pr)))\n",
      "\n",
      "            corrects += res.sum()\n",
      "            total += res.size\n",
      "\n",
      "            pr = corrects / total\n",
      "        \n",
      "        print(\"Final error rate:\", format_error_rate(pr))\n",
      "\n",
      "\n",
      "\n",
      "\n"
     ],
     "language": "python",
     "metadata": {},
     "outputs": [
      {
       "output_type": "stream",
       "stream": "stdout",
       "text": [
        "(1000, 23, 23, 1)\n",
        "(4572, 1, 1, 1)"
       ]
      },
      {
       "output_type": "stream",
       "stream": "stdout",
       "text": [
        "\n",
        "(4444, 1, 1, 1)"
       ]
      },
      {
       "output_type": "stream",
       "stream": "stdout",
       "text": [
        "\n",
        "(4162, 1, 1, 1)"
       ]
      },
      {
       "output_type": "stream",
       "stream": "stdout",
       "text": [
        "\n",
        "(3392, 1, 1, 1)"
       ]
      },
      {
       "output_type": "stream",
       "stream": "stdout",
       "text": [
        "\n",
        "(4112, 1, 1, 1)"
       ]
      },
      {
       "output_type": "stream",
       "stream": "stdout",
       "text": [
        "\n",
        "(2670, 1, 1, 1)"
       ]
      },
      {
       "output_type": "stream",
       "stream": "stdout",
       "text": [
        "\n",
        "(3670, 1, 1, 1)"
       ]
      },
      {
       "output_type": "stream",
       "stream": "stdout",
       "text": [
        "\n",
        "(2312, 1, 1, 1)"
       ]
      },
      {
       "output_type": "stream",
       "stream": "stdout",
       "text": [
        "\n",
        "(2548, 1, 1, 1)"
       ]
      },
      {
       "output_type": "stream",
       "stream": "stdout",
       "text": [
        "\n",
        "(1608, 1, 1, 1)"
       ]
      },
      {
       "output_type": "stream",
       "stream": "stdout",
       "text": [
        "\n",
        "(2969, 1, 1, 1)"
       ]
      },
      {
       "output_type": "stream",
       "stream": "stdout",
       "text": [
        "\n",
        "(3577, 1, 1, 1)"
       ]
      },
      {
       "output_type": "stream",
       "stream": "stdout",
       "text": [
        "\n",
        "(2205, 1, 1, 1)"
       ]
      },
      {
       "output_type": "stream",
       "stream": "stdout",
       "text": [
        "\n",
        "(1775, 1, 1, 1)"
       ]
      },
      {
       "output_type": "stream",
       "stream": "stdout",
       "text": [
        "\n",
        "(1723, 1, 1, 1)"
       ]
      },
      {
       "output_type": "stream",
       "stream": "stdout",
       "text": [
        "\n",
        "(3668, 1, 1, 1)"
       ]
      },
      {
       "output_type": "stream",
       "stream": "stdout",
       "text": [
        "\n",
        "(2158, 1, 1, 1)"
       ]
      },
      {
       "output_type": "stream",
       "stream": "stdout",
       "text": [
        "\n",
        "(2378, 1, 1, 1)"
       ]
      },
      {
       "output_type": "stream",
       "stream": "stdout",
       "text": [
        "\n",
        "(1752, 1, 1, 1)"
       ]
      },
      {
       "output_type": "stream",
       "stream": "stdout",
       "text": [
        "\n",
        "(710, 1, 1, 1)\n",
        "(2021, 1, 1, 1)"
       ]
      },
      {
       "output_type": "stream",
       "stream": "stdout",
       "text": [
        "\n",
        "(1516, 1, 1, 1)"
       ]
      },
      {
       "output_type": "stream",
       "stream": "stdout",
       "text": [
        "\n",
        "(3200, 1, 1, 1)"
       ]
      },
      {
       "output_type": "stream",
       "stream": "stdout",
       "text": [
        "\n",
        "(1414, 1, 1, 1)"
       ]
      },
      {
       "output_type": "stream",
       "stream": "stdout",
       "text": [
        "\n",
        "(2883, 1, 1, 1)"
       ]
      },
      {
       "output_type": "stream",
       "stream": "stdout",
       "text": [
        "\n",
        "(2832, 1, 1, 1)"
       ]
      },
      {
       "output_type": "stream",
       "stream": "stdout",
       "text": [
        "\n",
        "(1544, 1, 1, 1)"
       ]
      },
      {
       "output_type": "stream",
       "stream": "stdout",
       "text": [
        "\n",
        "(2662, 1, 1, 1)"
       ]
      },
      {
       "output_type": "stream",
       "stream": "stdout",
       "text": [
        "\n",
        "(1516, 1, 1, 1)"
       ]
      },
      {
       "output_type": "stream",
       "stream": "stdout",
       "text": [
        "\n",
        "(1573, 1, 1, 1)"
       ]
      },
      {
       "output_type": "stream",
       "stream": "stdout",
       "text": [
        "\n",
        "(836, 1, 1, 1)"
       ]
      },
      {
       "output_type": "stream",
       "stream": "stdout",
       "text": [
        "\n",
        "(2200, 1, 1, 1)"
       ]
      },
      {
       "output_type": "stream",
       "stream": "stdout",
       "text": [
        "\n",
        "(1427, 1, 1, 1)"
       ]
      },
      {
       "output_type": "stream",
       "stream": "stdout",
       "text": [
        "\n",
        "(2186, 1, 1, 1)"
       ]
      },
      {
       "output_type": "stream",
       "stream": "stdout",
       "text": [
        "\n",
        "(1415, 1, 1, 1)"
       ]
      },
      {
       "output_type": "stream",
       "stream": "stdout",
       "text": [
        "\n",
        "(2889, 1, 1, 1)"
       ]
      },
      {
       "output_type": "stream",
       "stream": "stdout",
       "text": [
        "\n",
        "(1776, 1, 1, 1)"
       ]
      },
      {
       "output_type": "stream",
       "stream": "stdout",
       "text": [
        "\n",
        "(1452, 1, 1, 1)"
       ]
      },
      {
       "output_type": "stream",
       "stream": "stdout",
       "text": [
        "\n",
        "(1165, 1, 1, 1)"
       ]
      },
      {
       "output_type": "stream",
       "stream": "stdout",
       "text": [
        "\n",
        "(1653, 1, 1, 1)"
       ]
      },
      {
       "output_type": "stream",
       "stream": "stdout",
       "text": [
        "\n",
        "(1629, 1, 1, 1)"
       ]
      },
      {
       "output_type": "stream",
       "stream": "stdout",
       "text": [
        "\n",
        "(2078, 1, 1, 1)"
       ]
      },
      {
       "output_type": "stream",
       "stream": "stdout",
       "text": [
        "\n",
        "(2482, 1, 1, 1)"
       ]
      },
      {
       "output_type": "stream",
       "stream": "stdout",
       "text": [
        "\n",
        "(526, 1, 1, 1)\n",
        "(1640, 1, 1, 1)"
       ]
      },
      {
       "output_type": "stream",
       "stream": "stdout",
       "text": [
        "\n",
        "(2131, 1, 1, 1)"
       ]
      },
      {
       "output_type": "stream",
       "stream": "stdout",
       "text": [
        "\n",
        "(1057, 1, 1, 1)"
       ]
      },
      {
       "output_type": "stream",
       "stream": "stdout",
       "text": [
        "\n",
        "(1637, 1, 1, 1)"
       ]
      },
      {
       "output_type": "stream",
       "stream": "stdout",
       "text": [
        "\n",
        "(1886, 1, 1, 1)"
       ]
      },
      {
       "output_type": "stream",
       "stream": "stdout",
       "text": [
        "\n",
        "(1612, 1, 1, 1)"
       ]
      },
      {
       "output_type": "stream",
       "stream": "stdout",
       "text": [
        "\n",
        "(1493, 1, 1, 1)"
       ]
      },
      {
       "output_type": "stream",
       "stream": "stdout",
       "text": [
        "\n",
        "(1587, 1, 1, 1)"
       ]
      },
      {
       "output_type": "stream",
       "stream": "stdout",
       "text": [
        "\n",
        "(1760, 1, 1, 1)"
       ]
      },
      {
       "output_type": "stream",
       "stream": "stdout",
       "text": [
        "\n",
        "(1672, 1, 1, 1)"
       ]
      },
      {
       "output_type": "stream",
       "stream": "stdout",
       "text": [
        "\n",
        "(1746, 1, 1, 1)"
       ]
      },
      {
       "output_type": "stream",
       "stream": "stdout",
       "text": [
        "\n",
        "(1421, 1, 1, 1)"
       ]
      },
      {
       "output_type": "stream",
       "stream": "stdout",
       "text": [
        "\n",
        "(2273, 1, 1, 1)"
       ]
      },
      {
       "output_type": "stream",
       "stream": "stdout",
       "text": [
        "\n",
        "(1659, 1, 1, 1)"
       ]
      },
      {
       "output_type": "stream",
       "stream": "stdout",
       "text": [
        "\n",
        "(1979, 1, 1, 1)"
       ]
      },
      {
       "output_type": "stream",
       "stream": "stdout",
       "text": [
        "\n",
        "(1318, 1, 1, 1)"
       ]
      },
      {
       "output_type": "stream",
       "stream": "stdout",
       "text": [
        "\n",
        "(2118, 1, 1, 1)"
       ]
      },
      {
       "output_type": "stream",
       "stream": "stdout",
       "text": [
        "\n",
        "(1518, 1, 1, 1)"
       ]
      },
      {
       "output_type": "stream",
       "stream": "stdout",
       "text": [
        "\n",
        "(2548, 1, 1, 1)"
       ]
      },
      {
       "output_type": "stream",
       "stream": "stdout",
       "text": [
        "\n",
        "(1470, 1, 1, 1)"
       ]
      },
      {
       "output_type": "stream",
       "stream": "stdout",
       "text": [
        "\n",
        "(2179, 1, 1, 1)"
       ]
      },
      {
       "output_type": "stream",
       "stream": "stdout",
       "text": [
        "\n",
        "(1847, 1, 1, 1)"
       ]
      },
      {
       "output_type": "stream",
       "stream": "stdout",
       "text": [
        "\n",
        "(1679, 1, 1, 1)"
       ]
      },
      {
       "output_type": "stream",
       "stream": "stdout",
       "text": [
        "\n",
        "(1784, 1, 1, 1)"
       ]
      },
      {
       "output_type": "stream",
       "stream": "stdout",
       "text": [
        "\n",
        "(2229, 1, 1, 1)"
       ]
      },
      {
       "output_type": "stream",
       "stream": "stdout",
       "text": [
        "\n",
        "(1578, 1, 1, 1)"
       ]
      },
      {
       "output_type": "stream",
       "stream": "stdout",
       "text": [
        "\n",
        "(1673, 1, 1, 1)"
       ]
      },
      {
       "output_type": "stream",
       "stream": "stdout",
       "text": [
        "\n",
        "(2257, 1, 1, 1)"
       ]
      },
      {
       "output_type": "stream",
       "stream": "stdout",
       "text": [
        "\n",
        "(1814, 1, 1, 1)"
       ]
      },
      {
       "output_type": "stream",
       "stream": "stdout",
       "text": [
        "\n",
        "(1815, 1, 1, 1)"
       ]
      },
      {
       "output_type": "stream",
       "stream": "stdout",
       "text": [
        "\n",
        "(1089, 1, 1, 1)"
       ]
      },
      {
       "output_type": "stream",
       "stream": "stdout",
       "text": [
        "\n",
        "(1923, 1, 1, 1)"
       ]
      },
      {
       "output_type": "stream",
       "stream": "stdout",
       "text": [
        "\n",
        "(2176, 1, 1, 1)"
       ]
      },
      {
       "output_type": "stream",
       "stream": "stdout",
       "text": [
        "\n",
        "(1564, 1, 1, 1)"
       ]
      },
      {
       "output_type": "stream",
       "stream": "stdout",
       "text": [
        "\n",
        "(1441, 1, 1, 1)"
       ]
      },
      {
       "output_type": "stream",
       "stream": "stdout",
       "text": [
        "\n",
        "(1511, 1, 1, 1)"
       ]
      },
      {
       "output_type": "stream",
       "stream": "stdout",
       "text": [
        "\n",
        "(1455, 1, 1, 1)"
       ]
      },
      {
       "output_type": "stream",
       "stream": "stdout",
       "text": [
        "\n",
        "(1646, 1, 1, 1)"
       ]
      },
      {
       "output_type": "stream",
       "stream": "stdout",
       "text": [
        "\n",
        "(1468, 1, 1, 1)"
       ]
      },
      {
       "output_type": "stream",
       "stream": "stdout",
       "text": [
        "\n",
        "(1316, 1, 1, 1)"
       ]
      },
      {
       "output_type": "stream",
       "stream": "stdout",
       "text": [
        "\n",
        "(1776, 1, 1, 1)"
       ]
      },
      {
       "output_type": "stream",
       "stream": "stdout",
       "text": [
        "\n",
        "(1404, 1, 1, 1)"
       ]
      },
      {
       "output_type": "stream",
       "stream": "stdout",
       "text": [
        "\n",
        "(1796, 1, 1, 1)"
       ]
      },
      {
       "output_type": "stream",
       "stream": "stdout",
       "text": [
        "\n",
        "(2140, 1, 1, 1)"
       ]
      },
      {
       "output_type": "stream",
       "stream": "stdout",
       "text": [
        "\n",
        "(1693, 1, 1, 1)"
       ]
      },
      {
       "output_type": "stream",
       "stream": "stdout",
       "text": [
        "\n",
        "(1242, 1, 1, 1)"
       ]
      },
      {
       "output_type": "stream",
       "stream": "stdout",
       "text": [
        "\n",
        "(1549, 1, 1, 1)"
       ]
      },
      {
       "output_type": "stream",
       "stream": "stdout",
       "text": [
        "\n",
        "(1397, 1, 1, 1)"
       ]
      },
      {
       "output_type": "stream",
       "stream": "stdout",
       "text": [
        "\n",
        "(1327, 1, 1, 1)"
       ]
      },
      {
       "output_type": "stream",
       "stream": "stdout",
       "text": [
        "\n",
        "(1372, 1, 1, 1)"
       ]
      },
      {
       "output_type": "stream",
       "stream": "stdout",
       "text": [
        "\n",
        "(1885, 1, 1, 1)"
       ]
      },
      {
       "output_type": "stream",
       "stream": "stdout",
       "text": [
        "\n",
        "(1624, 1, 1, 1)"
       ]
      },
      {
       "output_type": "stream",
       "stream": "stdout",
       "text": [
        "\n",
        "(1255, 1, 1, 1)"
       ]
      },
      {
       "output_type": "stream",
       "stream": "stdout",
       "text": [
        "\n",
        "(1029, 1, 1, 1)\n",
        "(1172, 1, 1, 1)"
       ]
      },
      {
       "output_type": "stream",
       "stream": "stdout",
       "text": [
        "\n",
        "(903, 1, 1, 1)"
       ]
      },
      {
       "output_type": "stream",
       "stream": "stdout",
       "text": [
        "\n",
        "(1000, 17, 17)"
       ]
      },
      {
       "output_type": "stream",
       "stream": "stdout",
       "text": [
        "\n",
        "Training Success!!"
       ]
      },
      {
       "output_type": "stream",
       "stream": "stdout",
       "text": [
        "\n",
        "training extract Begin"
       ]
      },
      {
       "output_type": "stream",
       "stream": "stdout",
       "text": [
        "\n",
        "training extract End"
       ]
      },
      {
       "output_type": "stream",
       "stream": "stdout",
       "text": [
        "\n",
        "1.511885643005371"
       ]
      },
      {
       "output_type": "stream",
       "stream": "stdout",
       "text": [
        "\n",
        "38.589943647384644"
       ]
      },
      {
       "output_type": "stream",
       "stream": "stdout",
       "text": [
        "\n",
        "(10000, 17, 17)\n",
        "Testing Starting...\n",
        "01000/60000 Error rate: 3.80%"
       ]
      },
      {
       "output_type": "stream",
       "stream": "stdout",
       "text": [
        "\n",
        "02000/60000 Error rate: 4.50%"
       ]
      },
      {
       "output_type": "stream",
       "stream": "stdout",
       "text": [
        "\n",
        "03000/60000 Error rate: 4.87%"
       ]
      },
      {
       "output_type": "stream",
       "stream": "stdout",
       "text": [
        "\n",
        "04000/60000 Error rate: 4.97%"
       ]
      },
      {
       "output_type": "stream",
       "stream": "stdout",
       "text": [
        "\n",
        "05000/60000 Error rate: 5.06%"
       ]
      },
      {
       "output_type": "stream",
       "stream": "stdout",
       "text": [
        "\n",
        "06000/60000 Error rate: 4.47%"
       ]
      },
      {
       "output_type": "stream",
       "stream": "stdout",
       "text": [
        "\n",
        "07000/60000 Error rate: 4.10%"
       ]
      },
      {
       "output_type": "stream",
       "stream": "stdout",
       "text": [
        "\n",
        "08000/60000 Error rate: 3.73%"
       ]
      },
      {
       "output_type": "stream",
       "stream": "stdout",
       "text": [
        "\n",
        "09000/60000 Error rate: 3.41%"
       ]
      },
      {
       "output_type": "stream",
       "stream": "stdout",
       "text": [
        "\n",
        "Final error rate:"
       ]
      },
      {
       "output_type": "stream",
       "stream": "stdout",
       "text": [
        " 3.32%\n"
       ]
      }
     ],
     "prompt_number": 2
    },
    {
     "cell_type": "code",
     "collapsed": false,
     "input": [],
     "language": "python",
     "metadata": {},
     "outputs": [],
     "prompt_number": 2
    },
    {
     "cell_type": "code",
     "collapsed": false,
     "input": [
      "print(allPartsLayerImgNumber)"
     ],
     "language": "python",
     "metadata": {},
     "outputs": [
      {
       "output_type": "stream",
       "stream": "stdout",
       "text": [
        "[[ 785.  767.  463.  486.  221.  350.  441.  475.  419.  160.]\n",
        " [ 759.  365.  355.  569.  719.  506.  312.  318.  242.  297.]\n",
        " [ 895.  492.  566.  543.  254.  358.  303.  271.  338.  142.]\n",
        " [ 344.  417.  420.  336.  623.  240.  282.  182.  214.  330.]\n",
        " [ 762.  500.  459.  361.  411.  239.  449.  394.  181.  355.]\n",
        " [ 197.  419.  430.  274.  259.  368.  242.  181.  176.  119.]\n",
        " [ 721.  337.  390.  311.  256.  306.  332.  396.  420.  201.]\n",
        " [ 330.  249.  187.  252.  304.  280.  185.  252.  130.  143.]\n",
        " [ 495.  305.  161.  260.  186.  166.  312.  241.  181.  241.]\n",
        " [ 241.  229.  263.  139.  218.   52.   69.  119.  169.   86.]\n",
        " [ 708.  322.  414.  267.  200.  278.  155.  197.  191.  237.]\n",
        " [ 809.  295.  418.  343.  246.  264.  189.  353.  503.  157.]\n",
        " [ 287.  412.  147.  208.  230.  214.  163.  176.  162.  205.]\n",
        " [ 346.  167.  155.  235.  165.   95.  180.  174.  134.  124.]\n",
        " [ 317.  191.  223.  160.  165.  113.   75.  125.  207.  147.]\n",
        " [ 366.  338.  454.  481.  386.  411.  466.  165.  261.  329.]\n",
        " [ 474.  171.  321.  282.  290.  183.  142.  152.   26.  109.]\n",
        " [ 332.  305.  235.  244.  236.  223.  251.  122.  231.  199.]\n",
        " [ 237.  301.  136.  123.  254.  137.  106.  107.  236.  109.]\n",
        " [ 152.  109.   72.   58.   31.   82.   92.   25.   34.   55.]\n",
        " [ 298.  319.  191.  292.  206.  157.  128.  197.   91.  125.]\n",
        " [ 216.  148.  276.  167.  145.  156.   83.  106.  121.   98.]\n",
        " [ 451.  435.  344.  399.  300.  294.  172.  305.  264.  236.]\n",
        " [ 120.  250.  160.  124.  169.   54.  143.  162.  162.   70.]\n",
        " [ 402.  320.  320.  252.  301.  241.  337.  235.  323.  152.]\n",
        " [ 339.  403.  394.  320.  269.  216.  294.  235.  229.  133.]\n",
        " [ 337.  201.  110.  252.  143.  145.  114.  110.   62.   63.]\n",
        " [ 142.  306.  358.  331.  253.  289.  463.  203.  109.  208.]\n",
        " [ 211.  218.  187.  186.   86.  147.  140.  175.   94.   72.]\n",
        " [ 209.  198.  172.   89.  149.  185.  114.  215.  175.   66.]\n",
        " [  60.  125.   72.  119.   38.   78.   93.  155.   31.   65.]\n",
        " [ 221.  289.  183.  194.  236.  207.  170.  317.  257.  126.]\n",
        " [ 211.  276.  129.  182.  101.  162.   72.  141.  102.   46.]\n",
        " [ 371.  267.  199.  293.  254.  136.  264.  111.   80.  210.]\n",
        " [ 207.  295.  173.  126.   94.   98.  116.  107.  128.   71.]\n",
        " [ 498.  196.  274.  298.  531.  173.  266.  167.  222.  264.]\n",
        " [ 202.  268.  139.  253.  182.  175.  141.  120.  126.  170.]\n",
        " [ 255.  181.  172.   85.  154.  170.   78.  113.  109.  135.]\n",
        " [ 246.   99.  160.   73.   90.  105.  124.  100.   91.   77.]\n",
        " [ 160.  171.  239.  218.  176.  146.  165.  160.  117.  101.]\n",
        " [ 211.  260.  186.  135.  155.  104.  176.  145.  164.   93.]\n",
        " [ 251.  339.  337.  249.  183.   86.  186.  157.  161.  129.]\n",
        " [ 395.  276.  266.  379.   70.  260.  266.  142.  231.  197.]\n",
        " [  13.   62.   79.   90.   37.   57.   55.   28.   71.   34.]\n",
        " [ 214.  152.  109.  237.  178.  147.  214.  136.  147.  106.]\n",
        " [ 300.  267.  193.  261.  235.  204.  145.  178.  198.  150.]\n",
        " [ 101.  115.  155.   90.   43.   91.  170.   97.  101.   94.]\n",
        " [ 271.  244.  100.  133.  162.  136.  179.  123.  166.  115.]\n",
        " [ 155.  242.  276.  154.  159.  276.  171.  112.  198.  143.]\n",
        " [ 251.  295.  141.  112.  164.  188.  166.  114.   43.  138.]\n",
        " [ 270.  137.  198.  189.  203.  131.   59.   67.  125.  114.]\n",
        " [ 117.  192.  281.  153.  104.  126.  194.  153.  194.   73.]\n",
        " [ 140.  169.  229.  142.  224.  250.  254.  134.  142.   73.]\n",
        " [ 221.  110.  218.  103.  126.  188.  197.  166.  175.  168.]\n",
        " [ 230.  171.  186.  173.  246.  148.  123.  149.  146.  173.]\n",
        " [ 231.  190.  170.  206.  128.   92.   97.   90.   93.  124.]\n",
        " [ 236.  329.  189.  306.  152.  184.  195.  294.  210.  178.]\n",
        " [ 316.  207.  150.  185.  128.  132.  188.  155.  126.   72.]\n",
        " [ 195.  243.  269.  139.  154.  207.  199.  128.  341.  104.]\n",
        " [ 202.  147.  149.  140.  112.  151.  128.   86.  131.   72.]\n",
        " [ 271.  220.  237.  255.  163.  208.  109.  268.  214.  173.]\n",
        " [ 285.  104.  144.  257.  137.  209.   77.  116.   88.  101.]\n",
        " [ 364.  252.  234.  332.  337.  169.  137.  183.  198.  342.]\n",
        " [ 167.  141.  100.  193.  170.  120.  242.   89.  152.   96.]\n",
        " [ 364.  240.  258.  221.  207.  221.  130.  224.  146.  168.]\n",
        " [ 242.  279.  223.  318.  167.  124.  139.   87.  142.  126.]\n",
        " [ 209.  251.  203.  183.  121.  178.  142.   87.  177.  128.]\n",
        " [ 232.  212.  228.  196.  123.  120.  225.  137.  209.  102.]\n",
        " [ 394.  307.  213.  372.  247.  190.  210.  115.   74.  107.]\n",
        " [ 229.  120.  141.  161.  252.  239.  115.  149.  106.   66.]\n",
        " [ 248.  176.  122.  257.  210.  125.  175.  122.   89.  149.]\n",
        " [ 193.  223.  245.  196.  273.  291.  242.  253.  198.  143.]\n",
        " [ 217.  231.  192.  100.  224.  133.  254.  175.  196.   92.]\n",
        " [ 239.  145.  228.  241.  206.  185.  139.  175.  136.  121.]\n",
        " [ 113.  315.   86.   93.   68.   61.   72.  133.  104.   44.]\n",
        " [ 261.  169.  136.  217.  184.  162.  296.  157.  210.  131.]\n",
        " [ 369.  202.  210.  205.  141.  274.  116.  163.  176.  320.]\n",
        " [ 233.  241.  224.  159.   99.   83.  130.  149.  136.  110.]\n",
        " [ 156.  149.  149.  191.   94.  124.  153.  247.   76.  102.]\n",
        " [ 209.  185.  220.  118.  100.  111.  123.  187.  122.  136.]\n",
        " [ 177.  179.  153.  191.   85.  237.  117.  102.  109.  105.]\n",
        " [ 202.  165.  187.  144.  207.  204.  174.   86.  175.  102.]\n",
        " [ 201.  230.  139.  157.  205.  106.  137.  100.   98.   95.]\n",
        " [ 113.  136.  140.  150.  110.  117.  147.  121.  184.   98.]\n",
        " [ 324.  245.  127.  183.  108.  272.  120.   98.  249.   50.]\n",
        " [ 165.  180.  132.  120.  133.  130.  193.  117.   68.  166.]\n",
        " [ 271.  277.  139.   77.  295.  167.  181.  100.  206.   83.]\n",
        " [ 268.  214.  242.  218.  288.  173.  185.  173.  181.  198.]\n",
        " [ 132.  156.  214.  281.  140.  237.  112.  157.  128.  136.]\n",
        " [  69.  206.  135.  131.   91.   97.   64.  227.  114.  108.]\n",
        " [ 191.  167.   96.  123.  165.  167.   79.  228.  148.  185.]\n",
        " [ 117.  148.  127.  163.  171.  135.  110.  152.  109.  165.]\n",
        " [ 198.  104.   93.  149.  136.  199.  151.  119.   60.  118.]\n",
        " [ 183.  179.  250.  123.   79.  126.  157.  101.   98.   76.]\n",
        " [ 319.  159.  158.  174.  150.  251.   89.  157.  190.  238.]\n",
        " [ 144.  234.  139.  164.  235.  144.   62.  203.  199.  100.]\n",
        " [  62.  209.   85.   95.  132.  133.  150.  114.  148.  127.]\n",
        " [ 144.  140.  102.  110.   73.   79.  116.  105.   75.   85.]\n",
        " [ 167.  117.  135.  121.   74.  137.  123.  125.   93.   80.]\n",
        " [ 162.  126.   70.   78.   76.   81.   87.   76.   80.   67.]]\n"
       ]
      }
     ],
     "prompt_number": 6
    },
    {
     "cell_type": "code",
     "collapsed": false,
     "input": [
      "import pylab as plt\n",
      "plt.imshow(allPartsLayerImgNumber,interpolation='nearest')"
     ],
     "language": "python",
     "metadata": {},
     "outputs": [
      {
       "metadata": {},
       "output_type": "pyout",
       "prompt_number": 5,
       "text": [
        "<matplotlib.image.AxesImage at 0x7f21b4245dd8>"
       ]
      },
      {
       "metadata": {},
       "output_type": "display_data",
       "png": "[encoded data removed]",
       "text": [
        "<matplotlib.figure.Figure at 0x7f220aa49898>"
       ]
      }
     ],
     "prompt_number": 5
    },
    {
     "cell_type": "code",
     "collapsed": false,
     "input": [],
     "language": "python",
     "metadata": {},
     "outputs": []
    }
   ],
   "metadata": {}
  }
 ]
}