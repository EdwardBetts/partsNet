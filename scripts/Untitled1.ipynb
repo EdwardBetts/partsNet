{
 "metadata": {
  "name": "",
  "signature": "sha256:254cef8d96e63d261f19cc6ead8fa99823416eebb79dfc64de277f74d7761bd7"
 },
 "nbformat": 3,
 "nbformat_minor": 0,
 "worksheets": [
  {
   "cells": [
    {
     "cell_type": "code",
     "collapsed": false,
     "input": [
      "from __future__ import division, print_function,absolute_import\n",
      "import pylab as plt\n",
      "import amitgroup.plot as gr\n",
      "import numpy as np\n",
      "import amitgroup as ag\n",
      "import os\n",
      "import pnet\n",
      "import matplotlib.pylab as plot\n",
      "from pnet.cyfuncs import index_map_pooling\n",
      "from Queue import Queue\n",
      "\n",
      "\"\"\"This tutorial introduces restricted boltzmann machines (RBM) using Theano.\n",
      "\n",
      "Boltzmann Machines (BMs) are a particular form of energy-based model which\n",
      "contain hidden variables. Restricted Boltzmann Machines further restrict BMs\n",
      "to those without visible-visible and hidden-hidden connections.\n",
      "\"\"\"\n",
      "import cPickle\n",
      "import gzip\n",
      "import time\n",
      "import PIL.Image\n",
      "\n",
      "import numpy\n",
      "\n",
      "import theano\n",
      "import theano.tensor as T\n",
      "import os\n",
      "\n",
      "from theano.tensor.shared_randomstreams import RandomStreams\n",
      "\n",
      "from utils import tile_raster_images\n",
      "import sklearn.cluster\n",
      "\n",
      "class RBM(object):\n",
      "    \"\"\"Restricted Boltzmann Machine (RBM)  \"\"\"\n",
      "    def __init__(self, input=None, n_visible=784, n_hidden=200, \\\n",
      "        W=None, hbias=None, vbias=None, numpy_rng=None,\n",
      "        theano_rng=None):\n",
      "        \"\"\"\n",
      "        RBM constructor. Defines the parameters of the model along with\n",
      "        basic operations for inferring hidden from visible (and vice-versa),\n",
      "        as well as for performing CD updates.\n",
      "\n",
      "        :param input: None for standalone RBMs or symbolic variable if RBM is\n",
      "        part of a larger graph.\n",
      "\n",
      "        :param n_visible: number of visible units\n",
      "\n",
      "        :param n_hidden: number of hidden units\n",
      "\n",
      "        :param W: None for standalone RBMs or symbolic variable pointing to a\n",
      "        shared weight matrix in case RBM is part of a DBN network; in a DBN,\n",
      "        the weights are shared between RBMs and layers of a MLP\n",
      "\n",
      "        :param hbias: None for standalone RBMs or symbolic variable pointing\n",
      "        to a shared hidden units bias vector in case RBM is part of a\n",
      "        different network\n",
      "\n",
      "        :param vbias: None for standalone RBMs or a symbolic variable\n",
      "        pointing to a shared visible units bias\n",
      "        \"\"\"\n",
      "\n",
      "        self.n_visible = n_visible\n",
      "        self.n_hidden = n_hidden\n",
      "\n",
      "        if numpy_rng is None:\n",
      "            # create a number generator\n",
      "            numpy_rng = numpy.random.RandomState(1234)\n",
      "\n",
      "        if theano_rng is None:\n",
      "            theano_rng = RandomStreams(numpy_rng.randint(2 ** 30))\n",
      "\n",
      "        if W is None:\n",
      "            # W is initialized with `initial_W` which is uniformely\n",
      "            # sampled from -4*sqrt(6./(n_visible+n_hidden)) and\n",
      "            # 4*sqrt(6./(n_hidden+n_visible)) the output of uniform if\n",
      "            # converted using asarray to dtype theano.config.floatX so\n",
      "            # that the code is runable on GPU\n",
      "            initial_W = numpy.asarray(numpy_rng.uniform(\n",
      "                      low=-4 * numpy.sqrt(6. / (n_hidden + n_visible)),\n",
      "                      high=4 * numpy.sqrt(6. / (n_hidden + n_visible)),\n",
      "                      size=(n_visible, n_hidden)),\n",
      "                      dtype=theano.config.floatX)\n",
      "            # theano shared variables for weights and biases\n",
      "            W = theano.shared(value=initial_W, name='W', borrow=True)\n",
      "\n",
      "        if hbias is None:\n",
      "            # create shared variable for hidden units bias\n",
      "            hbias = theano.shared(value=numpy.zeros(n_hidden,\n",
      "                                                    dtype=theano.config.floatX),\n",
      "                                  name='hbias', borrow=True)\n",
      "\n",
      "        if vbias is None:\n",
      "            # create shared variable for visible units bias\n",
      "            vbias = theano.shared(value=numpy.zeros(n_visible,\n",
      "                                                    dtype=theano.config.floatX),\n",
      "                                  name='vbias', borrow=True)\n",
      "\n",
      "        # initialize input layer for standalone RBM or layer0 of DBN\n",
      "        self.input = input\n",
      "        if not input:\n",
      "            self.input = T.matrix('input')\n",
      "\n",
      "        self.W = W\n",
      "        self.hbias = hbias\n",
      "        self.vbias = vbias\n",
      "        self.theano_rng = theano_rng\n",
      "        # **** WARNING: It is not a good idea to put things in this list\n",
      "        # other than shared variables created in this function.\n",
      "        self.params = [self.W, self.hbias, self.vbias]\n",
      "\n",
      "    def free_energy(self, v_sample):\n",
      "        ''' Function to compute the free energy '''\n",
      "        wx_b = T.dot(v_sample, self.W) + self.hbias\n",
      "        vbias_term = T.dot(v_sample, self.vbias)\n",
      "        hidden_term = T.sum(T.log(1 + T.exp(wx_b)), axis=1)\n",
      "        return -hidden_term - vbias_term\n",
      "\n",
      "    def propup(self, vis):\n",
      "        '''This function propagates the visible units activation upwards to\n",
      "        the hidden units\n",
      "\n",
      "        Note that we return also the pre-sigmoid activation of the\n",
      "        layer. As it will turn out later, due to how Theano deals with\n",
      "        optimizations, this symbolic variable will be needed to write\n",
      "        down a more stable computational graph (see details in the\n",
      "        reconstruction cost function)\n",
      "\n",
      "        '''\n",
      "        pre_sigmoid_activation = T.dot(vis, self.W) + self.hbias\n",
      "        return [pre_sigmoid_activation, T.nnet.sigmoid(pre_sigmoid_activation)]\n",
      "\n",
      "    def sample_h_given_v(self, v0_sample):\n",
      "        ''' This function infers state of hidden units given visible units '''\n",
      "        # compute the activation of the hidden units given a sample of\n",
      "        # the visibles\n",
      "        pre_sigmoid_h1, h1_mean = self.propup(v0_sample)\n",
      "        # get a sample of the hiddens given their activation\n",
      "        # Note that theano_rng.binomial returns a symbolic sample of dtype\n",
      "        # int64 by default. If we want to keep our computations in floatX\n",
      "        # for the GPU we need to specify to return the dtype floatX\n",
      "        h1_sample = self.theano_rng.binomial(size=h1_mean.shape,\n",
      "                                             n=1, p=h1_mean,\n",
      "                                             dtype=theano.config.floatX)\n",
      "        return [pre_sigmoid_h1, h1_mean, h1_sample]\n",
      "\n",
      "    def propdown(self, hid):\n",
      "        '''This function propagates the hidden units activation downwards to\n",
      "        the visible units\n",
      "\n",
      "        Note that we return also the pre_sigmoid_activation of the\n",
      "        layer. As it will turn out later, due to how Theano deals with\n",
      "        optimizations, this symbolic variable will be needed to write\n",
      "        down a more stable computational graph (see details in the\n",
      "        reconstruction cost function)\n",
      "\n",
      "        '''\n",
      "        pre_sigmoid_activation = T.dot(hid, self.W.T) + self.vbias\n",
      "        return [pre_sigmoid_activation, T.nnet.sigmoid(pre_sigmoid_activation)]\n",
      "\n",
      "    def sample_v_given_h(self, h0_sample):\n",
      "        ''' This function infers state of visible units given hidden units '''\n",
      "        # compute the activation of the visible given the hidden sample\n",
      "        pre_sigmoid_v1, v1_mean = self.propdown(h0_sample)\n",
      "        # get a sample of the visible given their activation\n",
      "        # Note that theano_rng.binomial returns a symbolic sample of dtype\n",
      "        # int64 by default. If we want to keep our computations in floatX\n",
      "        # for the GPU we need to specify to return the dtype floatX\n",
      "        v1_sample = self.theano_rng.binomial(size=v1_mean.shape,\n",
      "                                             n=1, p=v1_mean,\n",
      "                                             dtype=theano.config.floatX)\n",
      "        return [pre_sigmoid_v1, v1_mean, v1_sample]\n",
      "\n",
      "    def gibbs_hvh(self, h0_sample):\n",
      "        ''' This function implements one step of Gibbs sampling,\n",
      "            starting from the hidden state'''\n",
      "        pre_sigmoid_v1, v1_mean, v1_sample = self.sample_v_given_h(h0_sample)\n",
      "        pre_sigmoid_h1, h1_mean, h1_sample = self.sample_h_given_v(v1_sample)\n",
      "        return [pre_sigmoid_v1, v1_mean, v1_sample,\n",
      "                pre_sigmoid_h1, h1_mean, h1_sample]\n",
      "\n",
      "    def gibbs_vhv(self, v0_sample):\n",
      "        ''' This function implements one step of Gibbs sampling,\n",
      "            starting from the visible state'''\n",
      "        pre_sigmoid_h1, h1_mean, h1_sample = self.sample_h_given_v(v0_sample)\n",
      "        pre_sigmoid_v1, v1_mean, v1_sample = self.sample_v_given_h(h1_sample)\n",
      "        return [pre_sigmoid_h1, h1_mean, h1_sample,\n",
      "                pre_sigmoid_v1, v1_mean, v1_sample]\n",
      "\n",
      "    def get_cost_updates(self, lr=0.1, persistent=None, k=1):\n",
      "        \"\"\"This functions implements one step of CD-k or PCD-k\n",
      "\n",
      "        :param lr: learning rate used to train the RBM\n",
      "\n",
      "        :param persistent: None for CD. For PCD, shared variable\n",
      "            containing old state of Gibbs chain. This must be a shared\n",
      "            variable of size (batch size, number of hidden units).\n",
      "\n",
      "        :param k: number of Gibbs steps to do in CD-k/PCD-k\n",
      "\n",
      "        Returns a proxy for the cost and the updates dictionary. The\n",
      "        dictionary contains the update rules for weights and biases but\n",
      "        also an update of the shared variable used to store the persistent\n",
      "        chain, if one is used.\n",
      "\n",
      "        \"\"\"\n",
      "\n",
      "        # compute positive phase\n",
      "        pre_sigmoid_ph, ph_mean, ph_sample = self.sample_h_given_v(self.input)\n",
      "\n",
      "        # decide how to initialize persistent chain:\n",
      "        # for CD, we use the newly generate hidden sample\n",
      "        # for PCD, we initialize from the old state of the chain\n",
      "        if persistent is None:\n",
      "            chain_start = ph_sample\n",
      "        else:\n",
      "            chain_start = persistent\n",
      "\n",
      "        # perform actual negative phase\n",
      "        # in order to implement CD-k/PCD-k we need to scan over the\n",
      "        # function that implements one gibbs step k times.\n",
      "        # Read Theano tutorial on scan for more information :\n",
      "        # http://deeplearning.net/software/theano/library/scan.html\n",
      "        # the scan will return the entire Gibbs chain\n",
      "        [pre_sigmoid_nvs, nv_means, nv_samples,\n",
      "         pre_sigmoid_nhs, nh_means, nh_samples], updates = \\\n",
      "            theano.scan(self.gibbs_hvh,\n",
      "                    # the None are place holders, saying that\n",
      "                    # chain_start is the initial state corresponding to the\n",
      "                    # 6th output\n",
      "                    outputs_info=[None,  None,  None, None, None, chain_start],\n",
      "                    n_steps=k)\n",
      "\n",
      "        # determine gradients on RBM parameters\n",
      "        # not that we only need the sample at the end of the chain\n",
      "        chain_end = nv_samples[-1]\n",
      "\n",
      "        cost = T.mean(self.free_energy(self.input)) - T.mean(\n",
      "            self.free_energy(chain_end))\n",
      "        # We must not compute the gradient through the gibbs sampling\n",
      "        gparams = T.grad(cost, self.params, consider_constant=[chain_end])\n",
      "\n",
      "        # constructs the update dictionary\n",
      "        for gparam, param in zip(gparams, self.params):\n",
      "            # make sure that the learning rate is of the right dtype\n",
      "            updates[param] = param - gparam * T.cast(lr,\n",
      "                                                    dtype=theano.config.floatX)\n",
      "        if persistent:\n",
      "            # Note that this works only if persistent is a shared variable\n",
      "            updates[persistent] = nh_samples[-1]\n",
      "            # pseudo-likelihood is a better proxy for PCD\n",
      "            monitoring_cost = self.get_pseudo_likelihood_cost(updates)\n",
      "        else:\n",
      "            # reconstruction cross-entropy is a better proxy for CD\n",
      "            monitoring_cost = self.get_reconstruction_cost(updates,\n",
      "                                                           pre_sigmoid_nvs[-1])\n",
      "\n",
      "        return monitoring_cost, updates\n",
      "\n",
      "    def get_pseudo_likelihood_cost(self, updates):\n",
      "        \"\"\"Stochastic approximation to the pseudo-likelihood\"\"\"\n",
      "\n",
      "        # index of bit i in expression p(x_i | x_{\\i})\n",
      "        bit_i_idx = theano.shared(value=0, name='bit_i_idx')\n",
      "\n",
      "        # binarize the input image by rounding to nearest integer\n",
      "        xi = T.round(self.input)\n",
      "\n",
      "        # calculate free energy for the given bit configuration\n",
      "        fe_xi = self.free_energy(xi)\n",
      "\n",
      "        # flip bit x_i of matrix xi and preserve all other bits x_{\\i}\n",
      "        # Equivalent to xi[:,bit_i_idx] = 1-xi[:, bit_i_idx], but assigns\n",
      "        # the result to xi_flip, instead of working in place on xi.\n",
      "        xi_flip = T.set_subtensor(xi[:, bit_i_idx], 1 - xi[:, bit_i_idx])\n",
      "\n",
      "        # calculate free energy with bit flipped\n",
      "        fe_xi_flip = self.free_energy(xi_flip)\n",
      "\n",
      "        # equivalent to e^(-FE(x_i)) / (e^(-FE(x_i)) + e^(-FE(x_{\\i})))\n",
      "        cost = T.mean(self.n_visible * T.log(T.nnet.sigmoid(fe_xi_flip -\n",
      "                                                            fe_xi)))\n",
      "\n",
      "        # increment bit_i_idx % number as part of updates\n",
      "        updates[bit_i_idx] = (bit_i_idx + 1) % self.n_visible\n",
      "\n",
      "        return cost\n",
      "\n",
      "    def get_reconstruction_cost(self, updates, pre_sigmoid_nv):\n",
      "        \"\"\"Approximation to the reconstruction error\n",
      "\n",
      "        Note that this function requires the pre-sigmoid activation as\n",
      "        input.  To understand why this is so you need to understand a\n",
      "        bit about how Theano works. Whenever you compile a Theano\n",
      "        function, the computational graph that you pass as input gets\n",
      "        optimized for speed and stability.  This is done by changing\n",
      "        several parts of the subgraphs with others.  One such\n",
      "        optimization expresses terms of the form log(sigmoid(x)) in\n",
      "        terms of softplus.  We need this optimization for the\n",
      "        cross-entropy since sigmoid of numbers larger than 30. (or\n",
      "        even less then that) turn to 1. and numbers smaller than\n",
      "        -30. turn to 0 which in terms will force theano to compute\n",
      "        log(0) and therefore we will get either -inf or NaN as\n",
      "        cost. If the value is expressed in terms of softplus we do not\n",
      "        get this undesirable behaviour. This optimization usually\n",
      "        works fine, but here we have a special case. The sigmoid is\n",
      "        applied inside the scan op, while the log is\n",
      "        outside. Therefore Theano will only see log(scan(..)) instead\n",
      "        of log(sigmoid(..)) and will not apply the wanted\n",
      "        optimization. We can not go and replace the sigmoid in scan\n",
      "        with something else also, because this only needs to be done\n",
      "        on the last step. Therefore the easiest and more efficient way\n",
      "        is to get also the pre-sigmoid activation as an output of\n",
      "        scan, and apply both the log and sigmoid outside scan such\n",
      "        that Theano can catch and optimize the expression.\n",
      "\n",
      "        \"\"\"\n",
      "\n",
      "        cross_entropy = T.mean(\n",
      "                T.sum(self.input * T.log(T.nnet.sigmoid(pre_sigmoid_nv)) +\n",
      "                (1 - self.input) * T.log(1 - T.nnet.sigmoid(pre_sigmoid_nv)),\n",
      "                      axis=1))\n",
      "\n",
      "        return cross_entropy\n",
      "\n",
      "\n",
      "def test_rbm(learning_rate=0.05, training_epochs=30,\n",
      "             dataset='/Users/jiajunshen/Documents/Research/partsNet/data/mnist.pkl.gz', batch_size=20,\n",
      "             n_chains=20, n_samples=10, output_folder='rbm_plots',\n",
      "             n_hidden=20):\n",
      "    \"\"\"\n",
      "    Demonstrate how to train and afterwards sample from it using Theano.\n",
      "\n",
      "    This is demonstrated on MNIST.\n",
      "\n",
      "    :param learning_rate: learning rate used for training the RBM\n",
      "\n",
      "    :param training_epochs: number of epochs used for training\n",
      "\n",
      "    :param dataset: path the the pickled dataset\n",
      "\n",
      "    :param batch_size: size of a batch used to train the RBM\n",
      "\n",
      "    :param n_chains: number of parallel Gibbs chains to be used for sampling\n",
      "\n",
      "    :param n_samples: number of samples to plot for each chain\n",
      "\n",
      "    \"\"\"\n",
      "    datasets = load_data(shuffledExtract,shuffledLabel)\n",
      "\n",
      "    train_set_x, train_set_y = datasets[0]\n",
      "#     test_set_x, test_set_y = datasets[2]\n",
      "    numVisible = shuffledExtract.shape[1]\n",
      "    # compute number of minibatches for training, validation and testing\n",
      "    n_train_batches = train_set_x.get_value(borrow=True).shape[0] // batch_size\n",
      "\n",
      "    # allocate symbolic variables for the data\n",
      "    index = T.lscalar()    # index to a [mini]batch\n",
      "    x = T.matrix('x')  # the data is presented as rasterized images\n",
      "\n",
      "    rng = numpy.random.RandomState(123)\n",
      "    theano_rng = RandomStreams(rng.randint(2 ** 30))\n",
      "\n",
      "    # initialize storage for the persistent chain (state = hidden\n",
      "    # layer of chain)\n",
      "    persistent_chain = theano.shared(numpy.zeros((batch_size, n_hidden),\n",
      "                                                 dtype=theano.config.floatX),\n",
      "                                     borrow=True)\n",
      "\n",
      "    # construct the RBM class\n",
      "    rbm = RBM(input=x, n_visible= numVisible,\n",
      "              n_hidden=n_hidden, numpy_rng=rng, theano_rng=theano_rng)\n",
      "\n",
      "    # get the cost and the gradient corresponding to one step of CD-15\n",
      "    cost, updates = rbm.get_cost_updates(lr=learning_rate,\n",
      "                                         persistent=persistent_chain, k=15)\n",
      "\n",
      "    #################################\n",
      "    #     Training the RBM          #\n",
      "    #################################\n",
      "    if not os.path.isdir(output_folder):\n",
      "        os.makedirs(output_folder)\n",
      "    os.chdir(output_folder)\n",
      "\n",
      "    # it is ok for a theano function to have no output\n",
      "    # the purpose of train_rbm is solely to update the RBM parameters\n",
      "    train_rbm = theano.function([index], cost,\n",
      "           updates=updates,\n",
      "           givens={x: train_set_x[index * batch_size:\n",
      "                                  (index + 1) * batch_size]},\n",
      "           name='train_rbm')\n",
      "\n",
      "    plotting_time = 0.\n",
      "    start_time = time.clock()\n",
      "\n",
      "    # go through training epochs\n",
      "    for epoch in xrange(training_epochs):\n",
      "\n",
      "        # go through the training set\n",
      "        mean_cost = []\n",
      "        for batch_index in xrange(n_train_batches):\n",
      "            mean_cost += [train_rbm(batch_index)]\n",
      "\n",
      "        print('Training epoch %d, cost is ' % epoch, numpy.mean(mean_cost))\n",
      "\n",
      "        # Plot filters after each training epoch\n",
      "        plotting_start = time.clock()\n",
      "        # Construct image from the weight matrix\n",
      "#         image = PIL.Image.fromarray(tile_raster_images(\n",
      "#                  X=rbm.W.get_value(borrow=True).T,\n",
      "#                  img_shape=(28, 28), tile_shape=(10, 10),\n",
      "#                  tile_spacing=(1, 1)))\n",
      "#         image.save('filters_at_epoch_%i.png' % epoch)\n",
      "        plotting_stop = time.clock()\n",
      "        plotting_time += (plotting_stop - plotting_start)\n",
      "\n",
      "    end_time = time.clock()\n",
      "\n",
      "    pretraining_time = (end_time - start_time) - plotting_time\n",
      "\n",
      "    print ('Training took %f minutes' % (pretraining_time / 60.))\n",
      "\n",
      "    #################################\n",
      "    #     Sampling from the RBM     #\n",
      "    #################################\n",
      "#     # find out the number of test samples\n",
      "#     number_of_test_samples = test_set_x.get_value(borrow=True).shape[0]\n",
      "\n",
      "#     # pick random test examples, with which to initialize the persistent chain\n",
      "#     test_idx = rng.randint(number_of_test_samples - n_chains)\n",
      "#     persistent_vis_chain = theano.shared(numpy.asarray(\n",
      "#             test_set_x.get_value(borrow=True)[test_idx:test_idx + n_chains],\n",
      "#             dtype=theano.config.floatX))\n",
      "\n",
      "#     plot_every = 1000\n",
      "#     # define one step of Gibbs sampling (mf = mean-field) define a\n",
      "#     # function that does `plot_every` steps before returning the\n",
      "#     # sample for plotting\n",
      "#     [presig_hids, hid_mfs, hid_samples, presig_vis,\n",
      "#      vis_mfs, vis_samples], updates =  \\\n",
      "#                         theano.scan(rbm.gibbs_vhv,\n",
      "#                                 outputs_info=[None,  None, None, None,\n",
      "#                                               None, persistent_vis_chain],\n",
      "#                                 n_steps=plot_every)\n",
      "\n",
      "#     # add to updates the shared variable that takes care of our persistent\n",
      "#     # chain :.\n",
      "#     updates.update({persistent_vis_chain: vis_samples[-1]})\n",
      "#     # construct the function that implements our persistent chain.\n",
      "#     # we generate the \"mean field\" activations for plotting and the actual\n",
      "#     # samples for reinitializing the state of our persistent chain\n",
      "#     sample_fn = theano.function([], [vis_mfs[-1], vis_samples[-1]],\n",
      "#                                 updates=updates,\n",
      "#                                 name='sample_fn')\n",
      "\n",
      "#     # create a space to store the image for plotting ( we need to leave\n",
      "#     # room for the tile_spacing as well)\n",
      "#     image_data = numpy.zeros((29 * n_samples + 1, 29 * n_chains - 1),\n",
      "#                              dtype='uint8')\n",
      "#     for idx in xrange(n_samples):\n",
      "#         # generate `plot_every` intermediate samples that we discard,\n",
      "#         # because successive samples in the chain are too correlated\n",
      "#         vis_mf, vis_sample = sample_fn()\n",
      "#         print(' ... plotting sample ', idx)\n",
      "#         image_data[29 * idx:29 * idx + 28, :] = tile_raster_images(\n",
      "#                 X=vis_mf,\n",
      "#                 img_shape=(28, 28),\n",
      "#                 tile_shape=(1, n_chains),\n",
      "#                 tile_spacing=(1, 1))\n",
      "#         # construct image\n",
      "\n",
      "#     image = PIL.Image.fromarray(image_data)\n",
      "#     image.save('samples.png')\n",
      "#     os.chdir('../')\n",
      "    return rbm\n",
      "\n",
      "\n",
      "\n",
      "\n",
      "\n",
      "def extract(ims,allLayers):\n",
      "    #print(allLayers)\n",
      "    curX = ims\n",
      "    for layer in allLayers:\n",
      "        #print('-------------')\n",
      "        #print(layer)\n",
      "        curX = layer.extract(curX)\n",
      "        #print(np.array(curX).shape)\n",
      "        #print('------------------')\n",
      "    return curX\n",
      "\n",
      "def partsPool(originalPartsRegion, numParts):\n",
      "    partsGrid = np.zeros((1,1,numParts))\n",
      "    for i in range(originalPartsRegion.shape[0]):\n",
      "        for j in range(originalPartsRegion.shape[1]):\n",
      "            if(originalPartsRegion[i,j]!=-1):\n",
      "                partsGrid[0,0,originalPartsRegion[i,j]] = 1\n",
      "    return partsGrid\n",
      "\n",
      "\n",
      "\n",
      "def test(ims,labels,net):\n",
      "    yhat = net.classify(ims)\n",
      "    return yhat == labels\n",
      "\n",
      "def testInvestigation(ims, labels, net):\n",
      "    yhat = net.classify((ims,500))\n",
      "    return np.where(yhat!=labels), yhat\n",
      "\n",
      "def load_data(allDataX,allDataLabel):\n",
      "    ''' Loads the dataset\n",
      "\n",
      "    :type dataset: string\n",
      "    :param dataset: the path to the dataset (here MNIST)\n",
      "    '''\n",
      "\n",
      "#     #############\n",
      "#     # LOAD DATA #\n",
      "#     #############\n",
      "\n",
      "#     # Download the MNIST dataset if it is not present\n",
      "#     data_dir, data_file = os.path.split(dataset)\n",
      "#     if data_dir == \"\" and not os.path.isfile(dataset):\n",
      "#         # Check if dataset is in the data directory.\n",
      "#         new_path = os.path.join(os.path.split(__file__)[0], \"..\", \"data\", dataset)\n",
      "#         if os.path.isfile(new_path) or data_file == 'mnist.pkl.gz':\n",
      "#             dataset = new_path\n",
      "\n",
      "#     if (not os.path.isfile(dataset)) and data_file == 'mnist.pkl.gz':\n",
      "    import urllib\n",
      "    #origin = 'http://www.iro.umontreal.ca/~lisa/deep/data/mnist/mnist.pkl.gz'\n",
      "    #print ('Downloading data from %s' % origin)\n",
      "    #urllib.urlretrieve(origin, dataset)\n",
      "\n",
      "    print('... loading data')\n",
      "\n",
      "    # Load the dataset\n",
      "#     f = gzip.open(dataset, 'rb')\n",
      "#     train_set, valid_set, test_set = cPickle.load(f)\n",
      "#     f.close()\n",
      "    train_set = (allDataX[:5000],allDataLabel[:5000])\n",
      "#     valid_set = (allDataX[4000:],allDataLabel[4000:])\n",
      "    #train_set, valid_set, test_set format: tuple(input, target)\n",
      "    #input is an numpy.ndarray of 2 dimensions (a matrix)\n",
      "    #witch row's correspond to an example. target is a\n",
      "    #numpy.ndarray of 1 dimensions (vector)) that have the same length as\n",
      "    #the number of rows in the input. It should give the target\n",
      "    #target to the example with the same index in the input.\n",
      "\n",
      "    def shared_dataset(data_xy, borrow=True):\n",
      "        \"\"\" Function that loads the dataset into shared variables\n",
      "\n",
      "        The reason we store our dataset in shared variables is to allow\n",
      "        Theano to copy it into the GPU memory (when code is run on GPU).\n",
      "        Since copying data into the GPU is slow, copying a minibatch everytime\n",
      "        is needed (the default behaviour if the data is not in a shared\n",
      "        variable) would lead to a large decrease in performance.\n",
      "        \"\"\"\n",
      "        data_x, data_y = data_xy\n",
      "        print(data_x.shape,data_y.shape)\n",
      "        shared_x = theano.shared(numpy.asarray(data_x,\n",
      "                                               dtype=theano.config.floatX),\n",
      "                                 borrow=borrow)\n",
      "        shared_y = theano.shared(numpy.asarray(data_y,\n",
      "                                               dtype=theano.config.floatX),\n",
      "                                 borrow=borrow)\n",
      "        # When storing data on the GPU it has to be stored as floats\n",
      "        # therefore we will store the labels as ``floatX`` as well\n",
      "        # (``shared_y`` does exactly that). But during our computations\n",
      "        # we need them as ints (we use labels as index, and if they are\n",
      "        # floats it doesn't make sense) therefore instead of returning\n",
      "        # ``shared_y`` we will have to cast it to int. This little hack\n",
      "        # lets ous get around this issue\n",
      "        return shared_x, T.cast(shared_y, 'int32')\n",
      "\n",
      "#     test_set_x, test_set_y = shared_dataset(test_set)\n",
      "#     valid_set_x, valid_set_y = shared_dataset(valid_set)\n",
      "    train_set_x, train_set_y = shared_dataset(train_set)\n",
      "\n",
      "    rval = [(train_set_x, train_set_y)]#, (valid_set_x, valid_set_y)]#,\n",
      "#             (test_set_x, test_set_y)]\n",
      "    return rval\n",
      "\n",
      "    \n",
      "#def trainPOP():\n",
      "if pnet.parallel.main(__name__):\n",
      "    #X = np.load(\"testMay151.npy\")\n",
      "    #X = np.load(\"_3_100*6*6_1000*1*1_Jun_16_danny.npy\")\n",
      "    X = np.load(\"original6*6 2.npy\")\n",
      "    #X = np.load(\"sequential6*6.npy\")\n",
      "    model = X.item()\n",
      "    # get num of Parts\n",
      "    numParts = model['layers'][1]['num_parts']\n",
      "    net = pnet.PartsNet.load_from_dict(model)\n",
      "    allLayer = net.layers\n",
      "    ims,labels = ag.io.load_mnist('training')\n",
      "    trainingDataNum = 1000\n",
      "    firstLayerShape = 6\n",
      "    extractedFeature = extract(ims[0:trainingDataNum],allLayer[0:2])[0]\n",
      "    print(extractedFeature.shape)\n",
      "    extractedFeature = extractedFeature.reshape(extractedFeature.shape[0:3])\n",
      "    partsPlot = np.zeros((numParts,firstLayerShape,firstLayerShape))\n",
      "    partsCodedNumber = np.zeros(numParts)\n",
      "    \n",
      "    imgRegion= [[] for x in range(numParts)]\n",
      "    partsRegion = [[] for x in range(numParts)]\n",
      "\n",
      "    for i in range(trainingDataNum):\n",
      "        codeParts = extractedFeature[i]\n",
      "        for m in range(29 - firstLayerShape):\n",
      "            for n in range(29 - firstLayerShape):\n",
      "                if(codeParts[m,n]!=-1):\n",
      "                    partsPlot[codeParts[m,n]]+=ims[i,m:m+firstLayerShape,n:n+firstLayerShape]\n",
      "                    partsCodedNumber[codeParts[m,n]]+=1\n",
      "    for j in range(numParts):\n",
      "        partsPlot[j] = partsPlot[j]/partsCodedNumber[j]\n",
      "\n",
      "\n",
      "    secondLayerCodedNumber = 0\n",
      "    secondLayerShape = 12\n",
      "    frame = (secondLayerShape - firstLayerShape)/2\n",
      "    frame = int(frame)\n",
      "    totalRange = 29 - firstLayerShape\n",
      "    if 1:\n",
      "        for i in range(trainingDataNum):\n",
      "            codeParts = extractedFeature[i]\n",
      "            for m in range(totalRange)[frame:totalRange - frame]:\n",
      "                for n in range(totalRange)[frame:totalRange - frame]:\n",
      "                    if(codeParts[m,n]!=-1):\n",
      "                        imgRegion[codeParts[m,n]].append(ims[i, m - frame:m + secondLayerShape - frame,n - frame:n + secondLayerShape - frame])\n",
      "                        secondLayerCodedNumber+=1\n",
      "                        partsGrid = partsPool(codeParts[m-frame:m+frame + 1,n-frame:n+frame + 1],numParts)\n",
      "                        partsRegion[codeParts[m,n]].append(partsGrid)\n",
      "    \n",
      "    \n",
      "    newPartsRegion = []\n",
      "    for i in range(numParts):\n",
      "        newPartsRegion.append(np.asarray(partsRegion[i],dtype = np.uint8))\n",
      "    np.save('/var/tmp/partsRegionOriginalJun29.npy',newPartsRegion)\n",
      "    np.save('/var/tmp/imgRegionOriginalJun29.npy',imgRegion)\n",
      "    ##second-layer parts\n",
      "    numSecondLayerParts = 10\n",
      "    allPartsLayer = [[pnet.PartsLayer(numSecondLayerParts,(1,1),\n",
      "                        settings=dict(outer_frame = 0, \n",
      "                        threshold = 5, \n",
      "                        sample_per_image = 1, \n",
      "                        max_samples=10000, \n",
      "                        min_prob = 0.005,\n",
      "                        #min_llh = -40\n",
      "                        ))] \n",
      "                        for i in range(numParts)]\n",
      "    allPartsLayerImg = np.zeros((numParts,numSecondLayerParts,secondLayerShape,secondLayerShape))\n",
      "    allPartsLayerImgNumber = np.zeros((numParts,numSecondLayerParts))\n",
      "    zeroParts = 0\n",
      "    \n",
      "    imgRegionPool = [[] for i in range(numParts * numSecondLayerParts)]\n",
      "    for i in range(numParts):\n",
      "        if(not partsRegion[i]):\n",
      "            continue\n",
      "        allPartsLayer[i][0].train_from_samples(np.array(partsRegion[i]),None)\n",
      "        extractedFeaturePart = extract(np.array(partsRegion[i],dtype = np.uint8),allPartsLayer[i])[0]\n",
      "        print(extractedFeaturePart.shape)\n",
      "        for j in range(len(partsRegion[i])):\n",
      "            if(extractedFeaturePart[j,0,0,0]!=-1):\n",
      "                partIndex = extractedFeaturePart[j,0,0,0]\n",
      "                allPartsLayerImg[i,partIndex]+=imgRegion[i][j]\n",
      "                imgRegionPool[i * numSecondLayerParts + partIndex].append(imgRegion[i][j])\n",
      "                allPartsLayerImgNumber[i,partIndex]+=1\n",
      "            else:\n",
      "                zeroParts+=1\n",
      "    for i in range(numParts):\n",
      "        for j in range(numSecondLayerParts):\n",
      "            if(allPartsLayerImgNumber[i,j]):\n",
      "                allPartsLayerImg[i,j] = allPartsLayerImg[i,j]/allPartsLayerImgNumber[i,j]\n",
      "    #np.save(\"exPartsOriginalJun29.npy\",allPartsLayer)\n",
      "    \n",
      "    if 1:\n",
      "        \"\"\"\n",
      "        Visualize the SuperParts\n",
      "        \"\"\"\n",
      "        settings = {'interpolation':'nearest','cmap':plot.cm.gray,}\n",
      "        settings['vmin'] = 0\n",
      "        settings['vmax'] = 1\n",
      "        plotData = np.ones(((2 + secondLayerShape)*100+2,(2+secondLayerShape)*(numSecondLayerParts + 1)+2))*0.8\n",
      "        visualShiftParts = 0\n",
      "        if 0:\n",
      "            allPartsPlot = np.zeros((20,numSecondLayerParts + 1,12,12))\n",
      "            gr.images(partsPlot.reshape(numParts,6,6),zero_to_one=False,vmin = 0, vmax = 1)\n",
      "            allPartsPlot[:,0] = 0.5\n",
      "            allPartsPlot[:,0,3:9,3:9] = partsPlot[20:40]\n",
      "            allPartsPlot[:,1:,:,:] = allPartsLayerImg[20:40]\n",
      "            gr.images(allPartsPlot.reshape(20 * (numSecondLayerParts + 1),12,12),zero_to_one=False, vmin = 0, vmax =1)\n",
      "        elif 1:\n",
      "            for i in range(numSecondLayerParts + 1):\n",
      "                for j in range(numParts):\n",
      "                    if i == 0:\n",
      "                        plotData[5 + j * (2 + secondLayerShape):5+firstLayerShape + j * (2 + secondLayerShape), 5 + i * (2 + secondLayerShape): 5+firstLayerShape + i * (2 + secondLayerShape)] = partsPlot[j+visualShiftParts]\n",
      "                    else:\n",
      "                        plotData[2 + j * (2 + secondLayerShape):2 + secondLayerShape+ j * (2 + secondLayerShape),2 + i * (2 + secondLayerShape): 2+ secondLayerShape + i * (2 + secondLayerShape)] = allPartsLayerImg[j+visualShiftParts,i-1]\n",
      "            plot.figure(figsize=(10,40))\n",
      "            plot.axis('off')\n",
      "            plot.imshow(plotData, **settings)\n",
      "            plot.savefig('originalExParts_2.pdf',format='pdf',dpi=900)\n",
      "        else:\n",
      "            pass\n",
      "\n",
      "    \"\"\"\n",
      "    Train A Class-Model Layer\n",
      "    \"\"\"\n",
      "    \n",
      "    digits = range(10)\n",
      "    sup_ims = []\n",
      "    sup_labels = []\n",
      "    \n",
      "    classificationTrainingNum = 1000\n",
      "    for d in digits:\n",
      "        ims0 = ag.io.load_mnist('training', [d], selection = slice(classificationTrainingNum), return_labels = False)\n",
      "        sup_ims.append(ims0)\n",
      "        sup_labels.append(d * np.ones(len(ims0),dtype = np.int64))\n",
      "    sup_ims = np.concatenate(sup_ims, axis = 0)\n",
      "    sup_labels = np.concatenate(sup_labels,axis = 0)\n",
      "\n",
      "    #thirLevelCurx = np.load('./thirdLevelCurx.npy')\n",
      "    thirLevelCurx = np.load('./thirdLevelCurx_LargeMatch.npy')[:5000]\n",
      "\n",
      "    poolHelper = pnet.PoolingLayer(shape = (4,4),strides = (4,4))\n",
      "    thirLevelCurx = np.array(thirLevelCurx, dtype = np.int64)\n",
      "    pooledExtract = poolHelper.extract((thirLevelCurx[:,:,:,np.newaxis],500))\n",
      "    testImg_curX = np.load('./thirdLevelCurx_Test.npy')[:5000]\n",
      "    testImg_curX = np.array(testImg_curX, dtype = np.int64)\n",
      "    pooledTest = poolHelper.extract((testImg_curX[:,:,:,np.newaxis],500))\n",
      "    print(pooledExtract.sum(axis = 3))\n",
      "    print(pooledExtract.shape)\n",
      "    sup_labels = sup_labels[:5000]\n",
      "    sup_ims = sup_ims[:5000]\n",
      "    index = np.arange(5000)\n",
      "    randomIndex = np.random.shuffle(index)\n",
      "    pooledExtract = pooledExtract.reshape(5000,-1)\n",
      "    shuffledExtract = pooledExtract[index]\n",
      "    shuffledLabel = sup_labels[index]\n",
      "    testImg = sup_ims[index]\n",
      "\n",
      "    \n",
      "\n",
      "    datasets = load_data(shuffledExtract,shuffledLabel)\n",
      "\n",
      "    train_set_x, train_set_y = datasets[0]\n",
      "\n",
      "\n",
      "    #testRbm = test_rbm()\n",
      "    #weights = testRbm.W.get_value(borrow=True)\n",
      "    #np.save('weights20Hidden.npy',weights)\n",
      "    weights = np.load('weights20Hidden.npy')\n",
      "    weights = weights.reshape(4,4,500,20) \n",
      "    \n",
      "    \n",
      "    "
     ],
     "language": "python",
     "metadata": {},
     "outputs": [
      {
       "output_type": "stream",
       "stream": "stdout",
       "text": [
        "(1000, 23, 23, 1)\n",
        "BernoulliMM(binary_type=<type 'numpy.uint8'>, blocksize=0,\n",
        "      float_type=<type 'numpy.float64'>, init_params='wm', min_num=30,\n",
        "      min_prob=0.005, n_components=10, n_init=2, n_iter=20, params='wm',\n",
        "      random_state=0, thresh=1e-06, tol=None, verbose=False)"
       ]
      },
      {
       "output_type": "stream",
       "stream": "stdout",
       "text": [
        "\n",
        "AIC 140394.595072\n",
        "BIC 143946.733261\n",
        "(7932, 1, 1, 1)"
       ]
      },
      {
       "output_type": "stream",
       "stream": "stdout",
       "text": [
        "\n",
        "BernoulliMM(binary_type=<type 'numpy.uint8'>, blocksize=0,\n",
        "      float_type=<type 'numpy.float64'>, init_params='wm', min_num=30,\n",
        "      min_prob=0.005, n_components=10, n_init=2, n_iter=20, params='wm',\n",
        "      random_state=0, thresh=1e-06, tol=None, verbose=False)"
       ]
      },
      {
       "output_type": "stream",
       "stream": "stdout",
       "text": [
        "\n",
        "AIC 151281.995592\n",
        "BIC 154888.781573\n",
        "(8831, 1, 1, 1)"
       ]
      },
      {
       "output_type": "stream",
       "stream": "stdout",
       "text": [
        "\n",
        "BernoulliMM(binary_type=<type 'numpy.uint8'>, blocksize=0,\n",
        "      float_type=<type 'numpy.float64'>, init_params='wm', min_num=30,\n",
        "      min_prob=0.005, n_components=10, n_init=2, n_iter=20, params='wm',\n",
        "      random_state=0, thresh=1e-06, tol=None, verbose=False)"
       ]
      },
      {
       "output_type": "stream",
       "stream": "stdout",
       "text": [
        "\n",
        "AIC 102057.917769\n",
        "BIC 105307.550533\n",
        "(4378, 1, 1, 1)"
       ]
      },
      {
       "output_type": "stream",
       "stream": "stdout",
       "text": [
        "\n",
        "BernoulliMM(binary_type=<type 'numpy.uint8'>, blocksize=0,\n",
        "      float_type=<type 'numpy.float64'>, init_params='wm', min_num=30,\n",
        "      min_prob=0.005, n_components=10, n_init=2, n_iter=20, params='wm',\n",
        "      random_state=0, thresh=1e-06, tol=None, verbose=False)"
       ]
      },
      {
       "output_type": "stream",
       "stream": "stdout",
       "text": [
        "\n",
        "AIC 85000.1474685\n",
        "BIC 88217.1316086\n",
        "(4106, 1, 1, 1)"
       ]
      },
      {
       "output_type": "stream",
       "stream": "stdout",
       "text": [
        "\n",
        "BernoulliMM(binary_type=<type 'numpy.uint8'>, blocksize=0,\n",
        "      float_type=<type 'numpy.float64'>, init_params='wm', min_num=30,\n",
        "      min_prob=0.005, n_components=10, n_init=2, n_iter=20, params='wm',\n",
        "      random_state=0, thresh=1e-06, tol=None, verbose=False)"
       ]
      },
      {
       "output_type": "stream",
       "stream": "stdout",
       "text": [
        "\n",
        "AIC 100002.379204\n",
        "BIC 103320.850675\n",
        "(5012, 1, 1, 1)"
       ]
      },
      {
       "output_type": "stream",
       "stream": "stdout",
       "text": [
        "\n",
        "BernoulliMM(binary_type=<type 'numpy.uint8'>, blocksize=0,\n",
        "      float_type=<type 'numpy.float64'>, init_params='wm', min_num=30,\n",
        "      min_prob=0.005, n_components=10, n_init=2, n_iter=20, params='wm',\n",
        "      random_state=0, thresh=1e-06, tol=None, verbose=False)"
       ]
      },
      {
       "output_type": "stream",
       "stream": "stdout",
       "text": [
        "\n",
        "AIC 76723.1701721\n",
        "BIC 79867.2396911\n",
        "(3558, 1, 1, 1)"
       ]
      },
      {
       "output_type": "stream",
       "stream": "stdout",
       "text": [
        "\n",
        "BernoulliMM(binary_type=<type 'numpy.uint8'>, blocksize=0,\n",
        "      float_type=<type 'numpy.float64'>, init_params='wm', min_num=30,\n",
        "      min_prob=0.005, n_components=10, n_init=2, n_iter=20, params='wm',\n",
        "      random_state=0, thresh=1e-06, tol=None, verbose=False)"
       ]
      },
      {
       "output_type": "stream",
       "stream": "stdout",
       "text": [
        "\n",
        "AIC 61641.4326811\n",
        "BIC 64684.2184405\n",
        "(2916, 1, 1, 1)"
       ]
      },
      {
       "output_type": "stream",
       "stream": "stdout",
       "text": [
        "\n",
        "BernoulliMM(binary_type=<type 'numpy.uint8'>, blocksize=0,\n",
        "      float_type=<type 'numpy.float64'>, init_params='wm', min_num=30,\n",
        "      min_prob=0.005, n_components=10, n_init=2, n_iter=20, params='wm',\n",
        "      random_state=0, thresh=1e-06, tol=None, verbose=False)"
       ]
      },
      {
       "output_type": "stream",
       "stream": "stdout",
       "text": [
        "\n",
        "AIC 91157.666115\n",
        "BIC 94414.2272987\n",
        "(4438, 1, 1, 1)"
       ]
      },
      {
       "output_type": "stream",
       "stream": "stdout",
       "text": [
        "\n",
        "BernoulliMM(binary_type=<type 'numpy.uint8'>, blocksize=0,\n",
        "      float_type=<type 'numpy.float64'>, init_params='wm', min_num=30,\n",
        "      min_prob=0.005, n_components=10, n_init=2, n_iter=20, params='wm',\n",
        "      random_state=0, thresh=1e-06, tol=None, verbose=False)"
       ]
      },
      {
       "output_type": "stream",
       "stream": "stdout",
       "text": [
        "\n",
        "AIC 135912.669907\n",
        "BIC 139264.549738\n",
        "(5352, 1, 1, 1)"
       ]
      },
      {
       "output_type": "stream",
       "stream": "stdout",
       "text": [
        "\n",
        "BernoulliMM(binary_type=<type 'numpy.uint8'>, blocksize=0,\n",
        "      float_type=<type 'numpy.float64'>, init_params='wm', min_num=30,\n",
        "      min_prob=0.005, n_components=10, n_init=2, n_iter=20, params='wm',\n",
        "      random_state=0, thresh=1e-06, tol=None, verbose=False)"
       ]
      },
      {
       "output_type": "stream",
       "stream": "stdout",
       "text": [
        "\n",
        "AIC 72195.3058276\n",
        "BIC 75206.5895786\n",
        "(2741, 1, 1, 1)\n",
        "BernoulliMM(binary_type=<type 'numpy.uint8'>, blocksize=0,\n",
        "      float_type=<type 'numpy.float64'>, init_params='wm', min_num=30,\n",
        "      min_prob=0.005, n_components=10, n_init=2, n_iter=20, params='wm',\n",
        "      random_state=0, thresh=1e-06, tol=None, verbose=False)"
       ]
      },
      {
       "output_type": "stream",
       "stream": "stdout",
       "text": [
        "\n",
        "AIC 183739.375923\n",
        "BIC 187302.935684\n",
        "(8112, 1, 1, 1)"
       ]
      },
      {
       "output_type": "stream",
       "stream": "stdout",
       "text": [
        "\n",
        "BernoulliMM(binary_type=<type 'numpy.uint8'>, blocksize=0,\n",
        "      float_type=<type 'numpy.float64'>, init_params='wm', min_num=30,\n",
        "      min_prob=0.005, n_components=10, n_init=2, n_iter=20, params='wm',\n",
        "      random_state=0, thresh=1e-06, tol=None, verbose=False)"
       ]
      },
      {
       "output_type": "stream",
       "stream": "stdout",
       "text": [
        "\n",
        "AIC 163547.950187\n",
        "BIC 167047.969204\n",
        "(7160, 1, 1, 1)"
       ]
      },
      {
       "output_type": "stream",
       "stream": "stdout",
       "text": [
        "\n",
        "BernoulliMM(binary_type=<type 'numpy.uint8'>, blocksize=0,\n",
        "      float_type=<type 'numpy.float64'>, init_params='wm', min_num=30,\n",
        "      min_prob=0.005, n_components=10, n_init=2, n_iter=20, params='wm',\n",
        "      random_state=0, thresh=1e-06, tol=None, verbose=False)"
       ]
      },
      {
       "output_type": "stream",
       "stream": "stdout",
       "text": [
        "\n",
        "AIC 126843.526311\n",
        "BIC 130101.233118\n",
        "(4448, 1, 1, 1)"
       ]
      },
      {
       "output_type": "stream",
       "stream": "stdout",
       "text": [
        "\n",
        "BernoulliMM(binary_type=<type 'numpy.uint8'>, blocksize=0,\n",
        "      float_type=<type 'numpy.float64'>, init_params='wm', min_num=30,\n",
        "      min_prob=0.005, n_components=10, n_init=2, n_iter=20, params='wm',\n",
        "      random_state=0, thresh=1e-06, tol=None, verbose=False)"
       ]
      },
      {
       "output_type": "stream",
       "stream": "stdout",
       "text": [
        "\n",
        "AIC 174449.263498\n",
        "BIC 177939.303915\n",
        "(7021, 1, 1, 1)"
       ]
      },
      {
       "output_type": "stream",
       "stream": "stdout",
       "text": [
        "\n",
        "BernoulliMM(binary_type=<type 'numpy.uint8'>, blocksize=0,\n",
        "      float_type=<type 'numpy.float64'>, init_params='wm', min_num=30,\n",
        "      min_prob=0.005, n_components=10, n_init=2, n_iter=20, params='wm',\n",
        "      random_state=0, thresh=1e-06, tol=None, verbose=False)"
       ]
      },
      {
       "output_type": "stream",
       "stream": "stdout",
       "text": [
        "\n",
        "AIC 153839.718498\n",
        "BIC 157270.875556\n",
        "(6254, 1, 1, 1)"
       ]
      },
      {
       "output_type": "stream",
       "stream": "stdout",
       "text": [
        "\n",
        "BernoulliMM(binary_type=<type 'numpy.uint8'>, blocksize=0,\n",
        "      float_type=<type 'numpy.float64'>, init_params='wm', min_num=30,\n",
        "      min_prob=0.005, n_components=10, n_init=2, n_iter=20, params='wm',\n",
        "      random_state=0, thresh=1e-06, tol=None, verbose=False)"
       ]
      },
      {
       "output_type": "stream",
       "stream": "stdout",
       "text": [
        "\n",
        "AIC 69179.2934138\n",
        "BIC 72191.690139\n",
        "(2747, 1, 1, 1)\n",
        "BernoulliMM(binary_type=<type 'numpy.uint8'>, blocksize=0,\n",
        "      float_type=<type 'numpy.float64'>, init_params='wm', min_num=30,\n",
        "      min_prob=0.005, n_components=10, n_init=2, n_iter=20, params='wm',\n",
        "      random_state=0, thresh=1e-06, tol=None, verbose=False)"
       ]
      },
      {
       "output_type": "stream",
       "stream": "stdout",
       "text": [
        "\n",
        "AIC 147264.563714\n",
        "BIC 150607.521067\n",
        "(5259, 1, 1, 1)"
       ]
      },
      {
       "output_type": "stream",
       "stream": "stdout",
       "text": [
        "\n",
        "BernoulliMM(binary_type=<type 'numpy.uint8'>, blocksize=0,\n",
        "      float_type=<type 'numpy.float64'>, init_params='wm', min_num=30,\n",
        "      min_prob=0.005, n_components=10, n_init=2, n_iter=20, params='wm',\n",
        "      random_state=0, thresh=1e-06, tol=None, verbose=False)"
       ]
      },
      {
       "output_type": "stream",
       "stream": "stdout",
       "text": [
        "\n",
        "AIC 173115.973272\n",
        "BIC 176583.180095\n",
        "(6713, 1, 1, 1)"
       ]
      },
      {
       "output_type": "stream",
       "stream": "stdout",
       "text": [
        "\n",
        "BernoulliMM(binary_type=<type 'numpy.uint8'>, blocksize=0,\n",
        "      float_type=<type 'numpy.float64'>, init_params='wm', min_num=30,\n",
        "      min_prob=0.005, n_components=10, n_init=2, n_iter=20, params='wm',\n",
        "      random_state=0, thresh=1e-06, tol=None, verbose=False)"
       ]
      },
      {
       "output_type": "stream",
       "stream": "stdout",
       "text": [
        "\n",
        "AIC 87755.7678115\n",
        "BIC 90886.5028549\n",
        "(3466, 1, 1, 1)"
       ]
      },
      {
       "output_type": "stream",
       "stream": "stdout",
       "text": [
        "\n",
        "BernoulliMM(binary_type=<type 'numpy.uint8'>, blocksize=0,\n",
        "      float_type=<type 'numpy.float64'>, init_params='wm', min_num=30,\n",
        "      min_prob=0.005, n_components=10, n_init=2, n_iter=20, params='wm',\n",
        "      random_state=0, thresh=1e-06, tol=None, verbose=False)"
       ]
      },
      {
       "output_type": "stream",
       "stream": "stdout",
       "text": [
        "\n",
        "AIC 120590.759853\n",
        "BIC 123809.723577\n",
        "(4122, 1, 1, 1)"
       ]
      },
      {
       "output_type": "stream",
       "stream": "stdout",
       "text": [
        "\n",
        "BernoulliMM(binary_type=<type 'numpy.uint8'>, blocksize=0,\n",
        "      float_type=<type 'numpy.float64'>, init_params='wm', min_num=30,\n",
        "      min_prob=0.005, n_components=10, n_init=2, n_iter=20, params='wm',\n",
        "      random_state=0, thresh=1e-06, tol=None, verbose=False)"
       ]
      },
      {
       "output_type": "stream",
       "stream": "stdout",
       "text": [
        "\n",
        "AIC 91106.0150465\n",
        "BIC 94192.7549246\n",
        "(3179, 1, 1, 1)\n",
        "BernoulliMM(binary_type=<type 'numpy.uint8'>, blocksize=0,\n",
        "      float_type=<type 'numpy.float64'>, init_params='wm', min_num=30,\n",
        "      min_prob=0.005, n_components=10, n_init=2, n_iter=20, params='wm',\n",
        "      random_state=0, thresh=1e-06, tol=None, verbose=False)"
       ]
      },
      {
       "output_type": "stream",
       "stream": "stdout",
       "text": [
        "\n",
        "AIC 113275.247251\n",
        "BIC 116530.200219\n",
        "(4424, 1, 1, 1)"
       ]
      },
      {
       "output_type": "stream",
       "stream": "stdout",
       "text": [
        "\n",
        "BernoulliMM(binary_type=<type 'numpy.uint8'>, blocksize=0,\n",
        "      float_type=<type 'numpy.float64'>, init_params='wm', min_num=30,\n",
        "      min_prob=0.005, n_components=10, n_init=2, n_iter=20, params='wm',\n",
        "      random_state=0, thresh=1e-06, tol=None, verbose=False)"
       ]
      },
      {
       "output_type": "stream",
       "stream": "stdout",
       "text": [
        "\n",
        "AIC 160050.313861\n",
        "BIC 163405.700456\n",
        "(5389, 1, 1, 1)"
       ]
      },
      {
       "output_type": "stream",
       "stream": "stdout",
       "text": [
        "\n",
        "BernoulliMM(binary_type=<type 'numpy.uint8'>, blocksize=0,\n",
        "      float_type=<type 'numpy.float64'>, init_params='wm', min_num=30,\n",
        "      min_prob=0.005, n_components=10, n_init=2, n_iter=20, params='wm',\n",
        "      random_state=0, thresh=1e-06, tol=None, verbose=False)"
       ]
      },
      {
       "output_type": "stream",
       "stream": "stdout",
       "text": [
        "\n",
        "AIC 89746.5628998\n",
        "BIC 92841.8762806\n",
        "(3233, 1, 1, 1)"
       ]
      },
      {
       "output_type": "stream",
       "stream": "stdout",
       "text": [
        "\n",
        "BernoulliMM(binary_type=<type 'numpy.uint8'>, blocksize=0,\n",
        "      float_type=<type 'numpy.float64'>, init_params='wm', min_num=30,\n",
        "      min_prob=0.005, n_components=10, n_init=2, n_iter=20, params='wm',\n",
        "      random_state=0, thresh=1e-06, tol=None, verbose=False)"
       ]
      },
      {
       "output_type": "stream",
       "stream": "stdout",
       "text": [
        "\n",
        "AIC 78793.0328122\n",
        "BIC 81819.1401886\n",
        "(2822, 1, 1, 1)"
       ]
      },
      {
       "output_type": "stream",
       "stream": "stdout",
       "text": [
        "\n",
        "BernoulliMM(binary_type=<type 'numpy.uint8'>, blocksize=0,\n",
        "      float_type=<type 'numpy.float64'>, init_params='wm', min_num=30,\n",
        "      min_prob=0.005, n_components=10, n_init=2, n_iter=20, params='wm',\n",
        "      random_state=0, thresh=1e-06, tol=None, verbose=False)"
       ]
      },
      {
       "output_type": "stream",
       "stream": "stdout",
       "text": [
        "\n",
        "AIC 109551.515659\n",
        "BIC 112726.661858\n",
        "(3782, 1, 1, 1)"
       ]
      },
      {
       "output_type": "stream",
       "stream": "stdout",
       "text": [
        "\n",
        "BernoulliMM(binary_type=<type 'numpy.uint8'>, blocksize=0,\n",
        "      float_type=<type 'numpy.float64'>, init_params='wm', min_num=30,\n",
        "      min_prob=0.005, n_components=10, n_init=2, n_iter=20, params='wm',\n",
        "      random_state=0, thresh=1e-06, tol=None, verbose=False)"
       ]
      },
      {
       "output_type": "stream",
       "stream": "stdout",
       "text": [
        "\n",
        "AIC 153199.462126\n",
        "BIC 156549.245343\n",
        "(5330, 1, 1, 1)"
       ]
      },
      {
       "output_type": "stream",
       "stream": "stdout",
       "text": [
        "\n",
        "BernoulliMM(binary_type=<type 'numpy.uint8'>, blocksize=0,\n",
        "      float_type=<type 'numpy.float64'>, init_params='wm', min_num=30,\n",
        "      min_prob=0.005, n_components=10, n_init=2, n_iter=20, params='wm',\n",
        "      random_state=0, thresh=1e-06, tol=None, verbose=False)"
       ]
      },
      {
       "output_type": "stream",
       "stream": "stdout",
       "text": [
        "\n",
        "AIC 130399.295312\n",
        "BIC 133678.18316\n",
        "(4637, 1, 1, 1)"
       ]
      },
      {
       "output_type": "stream",
       "stream": "stdout",
       "text": [
        "\n",
        "BernoulliMM(binary_type=<type 'numpy.uint8'>, blocksize=0,\n",
        "      float_type=<type 'numpy.float64'>, init_params='wm', min_num=30,\n",
        "      min_prob=0.005, n_components=10, n_init=2, n_iter=20, params='wm',\n",
        "      random_state=0, thresh=1e-06, tol=None, verbose=False)"
       ]
      },
      {
       "output_type": "stream",
       "stream": "stdout",
       "text": [
        "\n",
        "AIC 224567.795325\n",
        "BIC 227966.265025\n",
        "(5865, 1, 1, 1)"
       ]
      },
      {
       "output_type": "stream",
       "stream": "stdout",
       "text": [
        "\n",
        "BernoulliMM(binary_type=<type 'numpy.uint8'>, blocksize=0,\n",
        "      float_type=<type 'numpy.float64'>, init_params='wm', min_num=30,\n",
        "      min_prob=0.005, n_components=10, n_init=2, n_iter=20, params='wm',\n",
        "      random_state=0, thresh=1e-06, tol=None, verbose=False)"
       ]
      },
      {
       "output_type": "stream",
       "stream": "stdout",
       "text": [
        "\n",
        "AIC 182312.153152\n",
        "BIC 185685.541259\n",
        "(5583, 1, 1, 1)"
       ]
      },
      {
       "output_type": "stream",
       "stream": "stdout",
       "text": [
        "\n",
        "BernoulliMM(binary_type=<type 'numpy.uint8'>, blocksize=0,\n",
        "      float_type=<type 'numpy.float64'>, init_params='wm', min_num=30,\n",
        "      min_prob=0.005, n_components=10, n_init=2, n_iter=20, params='wm',\n",
        "      random_state=0, thresh=1e-06, tol=None, verbose=False)"
       ]
      },
      {
       "output_type": "stream",
       "stream": "stdout",
       "text": [
        "\n",
        "AIC 130093.001285\n",
        "BIC 133299.717426\n",
        "(4024, 1, 1, 1)"
       ]
      },
      {
       "output_type": "stream",
       "stream": "stdout",
       "text": [
        "\n",
        "BernoulliMM(binary_type=<type 'numpy.uint8'>, blocksize=0,\n",
        "      float_type=<type 'numpy.float64'>, init_params='wm', min_num=30,\n",
        "      min_prob=0.005, n_components=10, n_init=2, n_iter=20, params='wm',\n",
        "      random_state=0, thresh=1e-06, tol=None, verbose=False)"
       ]
      },
      {
       "output_type": "stream",
       "stream": "stdout",
       "text": [
        "\n",
        "AIC 100421.229181\n",
        "BIC 103539.626929\n",
        "(3383, 1, 1, 1)"
       ]
      },
      {
       "output_type": "stream",
       "stream": "stdout",
       "text": [
        "\n",
        "BernoulliMM(binary_type=<type 'numpy.uint8'>, blocksize=0,\n",
        "      float_type=<type 'numpy.float64'>, init_params='wm', min_num=30,\n",
        "      min_prob=0.005, n_components=10, n_init=2, n_iter=20, params='wm',\n",
        "      random_state=0, thresh=1e-06, tol=None, verbose=False)"
       ]
      },
      {
       "output_type": "stream",
       "stream": "stdout",
       "text": [
        "\n",
        "AIC 118343.624976\n",
        "BIC 121563.822043\n",
        "(4132, 1, 1, 1)"
       ]
      },
      {
       "output_type": "stream",
       "stream": "stdout",
       "text": [
        "\n",
        "BernoulliMM(binary_type=<type 'numpy.uint8'>, blocksize=0,\n",
        "      float_type=<type 'numpy.float64'>, init_params='wm', min_num=30,\n",
        "      min_prob=0.005, n_components=10, n_init=2, n_iter=20, params='wm',\n",
        "      random_state=0, thresh=1e-06, tol=None, verbose=False)"
       ]
      },
      {
       "output_type": "stream",
       "stream": "stdout",
       "text": [
        "\n",
        "AIC 142639.257344\n",
        "BIC 145895.589093\n",
        "(4436, 1, 1, 1)"
       ]
      },
      {
       "output_type": "stream",
       "stream": "stdout",
       "text": [
        "\n",
        "BernoulliMM(binary_type=<type 'numpy.uint8'>, blocksize=0,\n",
        "      float_type=<type 'numpy.float64'>, init_params='wm', min_num=30,\n",
        "      min_prob=0.005, n_components=10, n_init=2, n_iter=20, params='wm',\n",
        "      random_state=0, thresh=1e-06, tol=None, verbose=False)"
       ]
      },
      {
       "output_type": "stream",
       "stream": "stdout",
       "text": [
        "\n",
        "AIC 197838.980722\n",
        "BIC 201152.246292\n",
        "(4961, 1, 1, 1)"
       ]
      },
      {
       "output_type": "stream",
       "stream": "stdout",
       "text": [
        "\n",
        "BernoulliMM(binary_type=<type 'numpy.uint8'>, blocksize=0,\n",
        "      float_type=<type 'numpy.float64'>, init_params='wm', min_num=30,\n",
        "      min_prob=0.005, n_components=10, n_init=2, n_iter=20, params='wm',\n",
        "      random_state=0, thresh=1e-06, tol=None, verbose=False)"
       ]
      },
      {
       "output_type": "stream",
       "stream": "stdout",
       "text": [
        "\n",
        "AIC 95064.1565942\n",
        "BIC 98156.4698113\n",
        "(3214, 1, 1, 1)"
       ]
      },
      {
       "output_type": "stream",
       "stream": "stdout",
       "text": [
        "\n",
        "BernoulliMM(binary_type=<type 'numpy.uint8'>, blocksize=0,\n",
        "      float_type=<type 'numpy.float64'>, init_params='wm', min_num=30,\n",
        "      min_prob=0.005, n_components=10, n_init=2, n_iter=20, params='wm',\n",
        "      random_state=0, thresh=1e-06, tol=None, verbose=False)"
       ]
      },
      {
       "output_type": "stream",
       "stream": "stdout",
       "text": [
        "\n",
        "AIC 114921.215007\n",
        "BIC 118093.662366\n",
        "(3762, 1, 1, 1)"
       ]
      },
      {
       "output_type": "stream",
       "stream": "stdout",
       "text": [
        "\n",
        "BernoulliMM(binary_type=<type 'numpy.uint8'>, blocksize=0,\n",
        "      float_type=<type 'numpy.float64'>, init_params='wm', min_num=30,\n",
        "      min_prob=0.005, n_components=10, n_init=2, n_iter=20, params='wm',\n",
        "      random_state=0, thresh=1e-06, tol=None, verbose=False)"
       ]
      },
      {
       "output_type": "stream",
       "stream": "stdout",
       "text": [
        "\n",
        "AIC 111483.648199\n",
        "BIC 114666.938571\n",
        "(3843, 1, 1, 1)"
       ]
      },
      {
       "output_type": "stream",
       "stream": "stdout",
       "text": [
        "\n",
        "BernoulliMM(binary_type=<type 'numpy.uint8'>, blocksize=0,\n",
        "      float_type=<type 'numpy.float64'>, init_params='wm', min_num=30,\n",
        "      min_prob=0.005, n_components=10, n_init=2, n_iter=20, params='wm',\n",
        "      random_state=0, thresh=1e-06, tol=None, verbose=False)"
       ]
      },
      {
       "output_type": "stream",
       "stream": "stdout",
       "text": [
        "\n",
        "AIC 121423.028924\n",
        "BIC 124520.855115\n",
        "(3249, 1, 1, 1)"
       ]
      },
      {
       "output_type": "stream",
       "stream": "stdout",
       "text": [
        "\n",
        "BernoulliMM(binary_type=<type 'numpy.uint8'>, blocksize=0,\n",
        "      float_type=<type 'numpy.float64'>, init_params='wm', min_num=30,\n",
        "      min_prob=0.005, n_components=10, n_init=2, n_iter=20, params='wm',\n",
        "      random_state=0, thresh=1e-06, tol=None, verbose=False)"
       ]
      },
      {
       "output_type": "stream",
       "stream": "stdout",
       "text": [
        "\n",
        "AIC 161336.662901\n",
        "BIC 164628.2344\n",
        "(4754, 1, 1, 1)"
       ]
      },
      {
       "output_type": "stream",
       "stream": "stdout",
       "text": [
        "\n",
        "BernoulliMM(binary_type=<type 'numpy.uint8'>, blocksize=0,\n",
        "      float_type=<type 'numpy.float64'>, init_params='wm', min_num=30,\n",
        "      min_prob=0.005, n_components=10, n_init=2, n_iter=20, params='wm',\n",
        "      random_state=0, thresh=1e-06, tol=None, verbose=False)"
       ]
      },
      {
       "output_type": "stream",
       "stream": "stdout",
       "text": [
        "\n",
        "AIC 152878.029861\n",
        "BIC 156102.275882\n",
        "(4165, 1, 1, 1)"
       ]
      },
      {
       "output_type": "stream",
       "stream": "stdout",
       "text": [
        "\n",
        "BernoulliMM(binary_type=<type 'numpy.uint8'>, blocksize=0,\n",
        "      float_type=<type 'numpy.float64'>, init_params='wm', min_num=30,\n",
        "      min_prob=0.005, n_components=10, n_init=2, n_iter=20, params='wm',\n",
        "      random_state=0, thresh=1e-06, tol=None, verbose=False)"
       ]
      },
      {
       "output_type": "stream",
       "stream": "stdout",
       "text": [
        "\n",
        "AIC 192321.774935\n",
        "BIC 195639.128059\n",
        "(5001, 1, 1, 1)"
       ]
      },
      {
       "output_type": "stream",
       "stream": "stdout",
       "text": [
        "\n",
        "BernoulliMM(binary_type=<type 'numpy.uint8'>, blocksize=0,\n",
        "      float_type=<type 'numpy.float64'>, init_params='wm', min_num=30,\n",
        "      min_prob=0.005, n_components=10, n_init=2, n_iter=20, params='wm',\n",
        "      random_state=0, thresh=1e-06, tol=None, verbose=False)"
       ]
      },
      {
       "output_type": "stream",
       "stream": "stdout",
       "text": [
        "\n",
        "AIC 177320.26149\n",
        "BIC 180620.537685\n",
        "(4836, 1, 1, 1)"
       ]
      },
      {
       "output_type": "stream",
       "stream": "stdout",
       "text": [
        "\n",
        "BernoulliMM(binary_type=<type 'numpy.uint8'>, blocksize=0,\n",
        "      float_type=<type 'numpy.float64'>, init_params='wm', min_num=30,\n",
        "      min_prob=0.005, n_components=10, n_init=2, n_iter=20, params='wm',\n",
        "      random_state=0, thresh=1e-06, tol=None, verbose=False)"
       ]
      },
      {
       "output_type": "stream",
       "stream": "stdout",
       "text": [
        "\n",
        "AIC 157552.372817\n",
        "BIC 160784.139947\n",
        "(4227, 1, 1, 1)"
       ]
      },
      {
       "output_type": "stream",
       "stream": "stdout",
       "text": [
        "\n",
        "BernoulliMM(binary_type=<type 'numpy.uint8'>, blocksize=0,\n",
        "      float_type=<type 'numpy.float64'>, init_params='wm', min_num=30,\n",
        "      min_prob=0.005, n_components=10, n_init=2, n_iter=20, params='wm',\n",
        "      random_state=0, thresh=1e-06, tol=None, verbose=False)"
       ]
      },
      {
       "output_type": "stream",
       "stream": "stdout",
       "text": [
        "\n",
        "AIC 220942.842411\n",
        "BIC 224265.762857\n",
        "(5056, 1, 1, 1)"
       ]
      },
      {
       "output_type": "stream",
       "stream": "stdout",
       "text": [
        "\n",
        "BernoulliMM(binary_type=<type 'numpy.uint8'>, blocksize=0,\n",
        "      float_type=<type 'numpy.float64'>, init_params='wm', min_num=30,\n",
        "      min_prob=0.005, n_components=10, n_init=2, n_iter=20, params='wm',\n",
        "      random_state=0, thresh=1e-06, tol=None, verbose=False)"
       ]
      },
      {
       "output_type": "stream",
       "stream": "stdout",
       "text": [
        "\n",
        "AIC 165716.004749\n",
        "BIC 168980.192823\n",
        "(4505, 1, 1, 1)"
       ]
      },
      {
       "output_type": "stream",
       "stream": "stdout",
       "text": [
        "\n",
        "BernoulliMM(binary_type=<type 'numpy.uint8'>, blocksize=0,\n",
        "      float_type=<type 'numpy.float64'>, init_params='wm', min_num=30,\n",
        "      min_prob=0.005, n_components=10, n_init=2, n_iter=20, params='wm',\n",
        "      random_state=0, thresh=1e-06, tol=None, verbose=False)"
       ]
      },
      {
       "output_type": "stream",
       "stream": "stdout",
       "text": [
        "\n",
        "AIC 179421.064654\n",
        "BIC 182686.494054\n",
        "(4516, 1, 1, 1)"
       ]
      },
      {
       "output_type": "stream",
       "stream": "stdout",
       "text": [
        "\n",
        "BernoulliMM(binary_type=<type 'numpy.uint8'>, blocksize=0,\n",
        "      float_type=<type 'numpy.float64'>, init_params='wm', min_num=30,\n",
        "      min_prob=0.005, n_components=10, n_init=2, n_iter=20, params='wm',\n",
        "      random_state=0, thresh=1e-06, tol=None, verbose=False)"
       ]
      },
      {
       "output_type": "stream",
       "stream": "stdout",
       "text": [
        "\n",
        "AIC 183065.447581\n",
        "BIC 186375.31603\n",
        "(4928, 1, 1, 1)"
       ]
      },
      {
       "output_type": "stream",
       "stream": "stdout",
       "text": [
        "\n",
        "BernoulliMM(binary_type=<type 'numpy.uint8'>, blocksize=0,\n",
        "      float_type=<type 'numpy.float64'>, init_params='wm', min_num=30,\n",
        "      min_prob=0.005, n_components=10, n_init=2, n_iter=20, params='wm',\n",
        "      random_state=0, thresh=1e-06, tol=None, verbose=False)"
       ]
      },
      {
       "output_type": "stream",
       "stream": "stdout",
       "text": [
        "\n",
        "AIC 160515.853869\n",
        "BIC 163763.272827\n",
        "(4359, 1, 1, 1)"
       ]
      },
      {
       "output_type": "stream",
       "stream": "stdout",
       "text": [
        "\n",
        "BernoulliMM(binary_type=<type 'numpy.uint8'>, blocksize=0,\n",
        "      float_type=<type 'numpy.float64'>, init_params='wm', min_num=30,\n",
        "      min_prob=0.005, n_components=10, n_init=2, n_iter=20, params='wm',\n",
        "      random_state=0, thresh=1e-06, tol=None, verbose=False)"
       ]
      },
      {
       "output_type": "stream",
       "stream": "stdout",
       "text": [
        "\n",
        "AIC 186066.027477\n",
        "BIC 189382.361785\n",
        "(4991, 1, 1, 1)"
       ]
      },
      {
       "output_type": "stream",
       "stream": "stdout",
       "text": [
        "\n",
        "[[[ 4  7  8  6]\n",
        "  [ 9  7  5 10]\n",
        "  [ 7  8  5  5]\n",
        "  [ 6  5  7  8]]\n",
        "\n",
        " [[ 3  8  6  5]\n",
        "  [ 8  7  6  8]\n",
        "  [ 6  6  6  8]\n",
        "  [ 6  6  8 10]]\n",
        "\n",
        " [[ 1  6  7  5]\n",
        "  [ 2  4  6  5]\n",
        "  [ 3  3  6  7]\n",
        "  [ 7  9 10  6]]\n",
        "\n",
        " ..., \n",
        " [[ 6  3  4  2]\n",
        "  [ 6  4  3  7]\n",
        "  [ 5  8  8  8]\n",
        "  [ 6  1  8  7]]\n",
        "\n",
        " [[ 2  7  6  6]\n",
        "  [ 4  5  1  6]\n",
        "  [ 9  5  3  4]\n",
        "  [ 7  9  5  8]]\n",
        "\n",
        " [[ 6 10  4  9]\n",
        "  [ 8 11  8  6]\n",
        "  [ 6 10  5  4]\n",
        "  [ 5  7  4  3]]]"
       ]
      },
      {
       "output_type": "stream",
       "stream": "stdout",
       "text": [
        "\n",
        "(5000, 4, 4, 500)\n",
        "... loading data"
       ]
      },
      {
       "output_type": "stream",
       "stream": "stdout",
       "text": [
        "\n",
        "(5000, 8000) (5000,)\n"
       ]
      },
      {
       "output_type": "stream",
       "stream": "stderr",
       "text": [
        "/Users/jiajunshen/Library/Enthought/Canopy_64bit/User/lib/python2.7/site-packages/matplotlib/__init__.py:1155: UserWarning:  This call to matplotlib.use() has no effect\n",
        "because the backend has already been chosen;\n",
        "matplotlib.use() must be called *before* pylab, matplotlib.pyplot,\n",
        "or matplotlib.backends is imported for the first time.\n",
        "\n",
        "  warnings.warn(_use_error_msg)\n"
       ]
      },
      {
       "metadata": {},
       "output_type": "display_data",
       "png": "[encoded data removed]",
       "text": [
        "<matplotlib.figure.Figure at 0x1115c4f90>"
       ]
      }
     ],
     "prompt_number": 1
    },
    {
     "cell_type": "code",
     "collapsed": false,
     "input": [
      "    trainingImg_curX =  np.load('./thirdLevelCurx_LargeMatch.npy')[:1000]\n",
      "    trainingImg_curX = np.array(trainingImg_curX, dtype = np.int64)\n",
      "    pooledTrain = poolHelper.extract((trainingImg_curX[:,:,:,np.newaxis],500))\n",
      "    trainImg,trainLabels = ag.io.load_mnist('training')\n",
      "\n",
      "    newPooledExtract = np.array(pooledTrain[:1000]).reshape(1000,4,4,500)\n",
      "\n",
      "    if 0:\n",
      "        for p in range(4):\n",
      "            for q in range(4):\n",
      "                location1 = newPooledExtract[:,p,q,:]\n",
      "                data = weights[p,q,:500,:]\n",
      "                X = np.array(data.reshape(500,20),dtype=np.double)\n",
      "                kmeans = sklearn.cluster.k_means(np.array(X,dtype = np.double),10)[1]\n",
      "                skipIndex = np.argmax(np.bincount(kmeans))\n",
      "                #Put in all the array of group index here\n",
      "                groupIndexArray = [[] for m in range(10)]\n",
      "                for i in range(10):\n",
      "                    if i == skipIndex:\n",
      "                        continue\n",
      "                    testIndex = i\n",
      "                    indexArray = np.where(kmeans == testIndex)[0]\n",
      "                    groupIndexArray[testIndex].append(indexArray)\n",
      "\n",
      "                poolingIndex = [[] for m in range(500)]\n",
      "                for k in np.where(np.max(location1,axis=0)!=0)[0]:\n",
      "                    if kmeans[k] == skipIndex:\n",
      "                        continue\n",
      "                    else:\n",
      "                        distanceArray = np.array([np.sum((X[m,:]-X[k,:]) * (X[m,:]-X[k,:])) for m in groupIndexArray[kmeans[k]][0]])\n",
      "                        #print(distanceArray.shape)\n",
      "                        numPooling = (distanceArray.shape[0] + 1)//2\n",
      "        #                 print(numPooling)\n",
      "                        finalPooling = groupIndexArray[kmeans[k]][0][np.argsort(distanceArray)[:numPooling]]\n",
      "                        #print(k, finalPooling)\n",
      "                        poolingIndex[k].append(finalPooling)\n",
      "\n",
      "                for r in range(1000):\n",
      "                    print(r)\n",
      "                    for m in range(500):\n",
      "                        if newPooledExtract[r,p,q,m] == 1:\n",
      "                            if len(poolingIndex[m])==0:\n",
      "                                continue\n",
      "                            else:\n",
      "        #                         print(poolingIndex[m][0])\n",
      "                                newPooledExtract[r,p,q,:][poolingIndex[m][0]] = 1\n",
      "    if 0:\n",
      "        for p in range(5):\n",
      "            print(trainLabels[p])\n",
      "            gr.images(trainImg[p])\n",
      "            for m in range(4):\n",
      "                for n in range(4):\n",
      "                   gr.images(np.array([allPartsLayerImg[(k%500)//10,k - ((k%500)//10) * 10] for k in np.where(newPooledExtract[p,m,n,:]==1)[0]]))\n",
      "\n",
      "    testImg_curX = np.load('./thirdLevelCurx_LargeMatch.npy')\n",
      "    testImg_curX = np.array(testImg_curX, dtype = np.int64)\n",
      "    pooledTest = poolHelper.extract((testImg_curX[:,:,:,np.newaxis],500))\n",
      "    testImg,testLabels = ag.io.load_mnist('testing')\n",
      "    testLabels = trainLabels[:]\n",
      "    print(pooledTest.shape)\n",
      "    newPooledExtractTest = np.array(pooledTest[:10000]).reshape(10000,4,4,500)\n",
      "    if 0:\n",
      "        for p in range(4):\n",
      "            for q in range(4):\n",
      "                location1 = newPooledExtractTest[:,p,q,:]\n",
      "                data = weights[p,q,:500,:]\n",
      "                X = np.array(data.reshape(500,20),dtype=np.double)\n",
      "                kmeans = sklearn.cluster.k_means(np.array(X,dtype = np.double),10)[1]\n",
      "                skipIndex = np.argmax(np.bincount(kmeans))\n",
      "                #Put in all the array of group index here\n",
      "                groupIndexArray = [[] for m in range(10)]\n",
      "                for i in range(10):\n",
      "                    if i == skipIndex:\n",
      "                        continue\n",
      "                    testIndex = i\n",
      "                    indexArray = np.where(kmeans == testIndex)[0]\n",
      "                    groupIndexArray[testIndex].append(indexArray)\n",
      "\n",
      "                poolingIndex = [[] for m in range(500)]\n",
      "                for k in np.where(np.max(location1,axis=0)!=0)[0]:\n",
      "                    if kmeans[k] == skipIndex:\n",
      "                        continue\n",
      "                    else:\n",
      "                        distanceArray = np.array([np.sum((X[m,:]-X[k,:]) * (X[m,:]-X[k,:])) for m in groupIndexArray[kmeans[k]][0]])\n",
      "                        #print(distanceArray.shape)\n",
      "                        numPooling = (distanceArray.shape[0] + 1)//2\n",
      "        #                 print(numPooling)\n",
      "                        finalPooling = groupIndexArray[kmeans[k]][0][np.argsort(distanceArray)[:numPooling]]\n",
      "                        #print(k, finalPooling)\n",
      "                        poolingIndex[k].append(finalPooling)\n",
      "\n",
      "                for r in range(10000):\n",
      "                    print(r)\n",
      "                    for m in range(500):\n",
      "                        if newPooledExtractTest[r,p,q,m] == 1:\n",
      "                            if len(poolingIndex[m])==0:\n",
      "                                continue\n",
      "                            else:\n",
      "        #                         print(poolingIndex[m][0])\n",
      "                                newPooledExtractTest[r,p,q,:][poolingIndex[m][0]] = 1\n",
      "\n",
      "    newPooledExtract = newPooledExtract.reshape(1000,-1)\n",
      "    newPooledExtractTest = newPooledExtractTest.reshape(10000,-1)\n",
      "    #Train a class Model#\n",
      "\n",
      "    svmLayer = pnet.SVMClassificationLayer(C = 1.0)\n",
      "    svmLayer.train(newPooledExtract[:1000], trainLabels[:1000])\n",
      "    print(\"Training Success!\")\n",
      "    testImg_Input = np.array(newPooledExtractTest, dtype = np.int64)\n",
      "    testImg_batches = np.array_split(newPooledExtractTest[:10000], 200)\n",
      "    print(np.mean(svmLayer.extract(testImg_Input) == testLabels))\n",
      "    if 0:\n",
      "        testLabels_batches = np.array_split(testLabels, 200)\n",
      "\n",
      "        args = [tup + (svmLayer,) for tup in zip(testImg_batches, testLabels_batches)]\n",
      "        corrects = 0\n",
      "        total = 0\n",
      "        def format_error_rate(pr):\n",
      "            return \"{:.2f}%\".format(100 * (1-pr))\n",
      "        def clustering(X,L,layer):\n",
      "            return L == layer.extract(X)\n",
      "            \n",
      "        print(\"Testing Starting...\")\n",
      "\n",
      "        for i, res in enumerate(pnet.parallel.starmap_unordered(clustering,args)):\n",
      "            if i !=0 and i % 20 ==0:\n",
      "                print(\"{0:05}/{1:05} Error rate: {2}\".format(total, len(ims),format_error_rate(pr)))\n",
      "\n",
      "            corrects += res.sum()\n",
      "            print(res.sum())\n",
      "            total += res.size\n",
      "\n",
      "            pr = corrects / total\n",
      "\n",
      "        print(\"Final error rate:\", format_error_rate(pr))"
     ],
     "language": "python",
     "metadata": {},
     "outputs": []
    }
   ],
   "metadata": {}
  }
 ]
}